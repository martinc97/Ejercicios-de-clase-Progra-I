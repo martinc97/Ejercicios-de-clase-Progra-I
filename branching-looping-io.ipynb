{
  "cells": [
    {
      "cell_type": "markdown",
      "metadata": {
        "id": "view-in-github",
        "colab_type": "text"
      },
      "source": [
        "<a href=\"https://colab.research.google.com/github/martinc97/Ejercicios-de-clase-Progra-I/blob/main/branching-looping-io.ipynb\" target=\"_parent\"><img src=\"https://colab.research.google.com/assets/colab-badge.svg\" alt=\"Open In Colab\"/></a>"
      ]
    },
    {
      "cell_type": "markdown",
      "metadata": {
        "id": "Mfz_ki129_-m"
      },
      "source": [
        "# Control de flujo e iteraciones"
      ]
    },
    {
      "cell_type": "markdown",
      "metadata": {
        "id": "99szpTyW9_-q"
      },
      "source": [
        "## Entrada y salida del usuario"
      ]
    },
    {
      "cell_type": "code",
      "execution_count": null,
      "metadata": {
        "id": "2T8qEc9k9_-r"
      },
      "outputs": [],
      "source": [
        "hi = \"Hola amigos del PES\""
      ]
    },
    {
      "cell_type": "code",
      "execution_count": null,
      "metadata": {
        "id": "rkCteQ7O9_-s",
        "outputId": "4d8b4917-fe74-444e-f926-81460746510f",
        "colab": {
          "base_uri": "https://localhost:8080/",
          "height": 53
        }
      },
      "outputs": [
        {
          "name": "stdout",
          "output_type": "stream",
          "text": [
            "Ingresa tu nombre: Martín\n"
          ]
        },
        {
          "output_type": "execute_result",
          "data": {
            "application/vnd.google.colaboratory.intrinsic+json": {
              "type": "string"
            },
            "text/plain": [
              "'Hola mundo de Martín'"
            ]
          },
          "metadata": {},
          "execution_count": 4
        }
      ],
      "source": [
        "name = input(\"Ingresa tu nombre: \")\n",
        "hello = \"Hola mundo de\"\n",
        "saludo = hello + \" \" + name\n",
        "saludo"
      ]
    },
    {
      "cell_type": "code",
      "execution_count": null,
      "metadata": {
        "id": "9MPJWAe19_-t",
        "outputId": "cc439e80-14c2-4547-b6fc-360eed2c1637",
        "colab": {
          "base_uri": "https://localhost:8080/"
        }
      },
      "outputs": [
        {
          "name": "stdout",
          "output_type": "stream",
          "text": [
            "Ingresa tu edad: 24\n"
          ]
        },
        {
          "output_type": "execute_result",
          "data": {
            "text/plain": [
              "24"
            ]
          },
          "metadata": {},
          "execution_count": 5
        }
      ],
      "source": [
        "edad = int(input(\"Ingresa tu edad: \"))\n",
        "edad"
      ]
    },
    {
      "cell_type": "markdown",
      "metadata": {
        "id": "VRE4FNsx9_-u"
      },
      "source": [
        "## Salida en consola"
      ]
    },
    {
      "cell_type": "code",
      "execution_count": null,
      "metadata": {
        "id": "6-eX8leX9_-u",
        "outputId": "6f9e82f6-7de0-440a-fa07-54ead12b4eb7",
        "colab": {
          "base_uri": "https://localhost:8080/"
        }
      },
      "outputs": [
        {
          "output_type": "stream",
          "name": "stdout",
          "text": [
            "Hola mundo de Martín\n"
          ]
        }
      ],
      "source": [
        "print(saludo)"
      ]
    },
    {
      "cell_type": "code",
      "execution_count": null,
      "metadata": {
        "id": "xFQG8oLy9_-u",
        "outputId": "b2287fdc-c3a3-434b-ad6f-43660ad942f3",
        "colab": {
          "base_uri": "https://localhost:8080/"
        }
      },
      "outputs": [
        {
          "output_type": "stream",
          "name": "stdout",
          "text": [
            "Hola mundo de  ->  Martín\n"
          ]
        }
      ],
      "source": [
        "print(hello, \" -> \", name)"
      ]
    },
    {
      "cell_type": "markdown",
      "metadata": {
        "id": "5c77GNR29_-v"
      },
      "source": [
        "Argumentos `sep` y `end`"
      ]
    },
    {
      "cell_type": "code",
      "execution_count": null,
      "metadata": {
        "id": "veoQvW_G9_-v",
        "outputId": "a96888c8-19b7-4fcf-bd68-8663d3e3aac6",
        "colab": {
          "base_uri": "https://localhost:8080/"
        }
      },
      "outputs": [
        {
          "output_type": "stream",
          "name": "stdout",
          "text": [
            "Hola mundo de,Martín\n"
          ]
        }
      ],
      "source": [
        "print(hello, name, sep = \",\")"
      ]
    },
    {
      "cell_type": "code",
      "execution_count": null,
      "metadata": {
        "id": "zPiE5y1J9_-w",
        "outputId": "71ec35cd-ffb5-4b68-839a-8ae3b8da22e3",
        "colab": {
          "base_uri": "https://localhost:8080/"
        }
      },
      "outputs": [
        {
          "output_type": "stream",
          "name": "stdout",
          "text": [
            "Hola mundo de Martín :)"
          ]
        }
      ],
      "source": [
        "print(hello, name, end = \" :)\")"
      ]
    },
    {
      "cell_type": "markdown",
      "metadata": {
        "id": "7-natWpo9_-w"
      },
      "source": [
        "Combinar variables en el texto (interpolación)"
      ]
    },
    {
      "cell_type": "code",
      "execution_count": null,
      "metadata": {
        "id": "63bTdmTr9_-x",
        "outputId": "83c2b4bd-2269-4523-c3a7-5fb1e92b081b",
        "colab": {
          "base_uri": "https://localhost:8080/"
        }
      },
      "outputs": [
        {
          "output_type": "stream",
          "name": "stdout",
          "text": [
            "Hola Martín, Pi=3.1415\n"
          ]
        }
      ],
      "source": [
        "pi=3.1415\n",
        "print(\"Hola %s, Pi=%0.4f\" % ('Martín', pi))"
      ]
    },
    {
      "cell_type": "markdown",
      "metadata": {
        "id": "Fom1RUcr9_-x"
      },
      "source": [
        "También es posible utilizando diccionarios: "
      ]
    },
    {
      "cell_type": "code",
      "execution_count": null,
      "metadata": {
        "id": "Udh-w8TK9_-x",
        "outputId": "b713f829-27f8-4ddf-96d0-491581923244",
        "colab": {
          "base_uri": "https://localhost:8080/"
        }
      },
      "outputs": [
        {
          "output_type": "stream",
          "name": "stdout",
          "text": [
            "Pi = 3.1415\n"
          ]
        }
      ],
      "source": [
        "print(\"Pi = %(pi)s\" % {'pi' : pi})"
      ]
    },
    {
      "cell_type": "markdown",
      "metadata": {
        "id": "YuGLjq-79_-x"
      },
      "source": [
        "El método más reciente es el de *f-strings*:"
      ]
    },
    {
      "cell_type": "code",
      "execution_count": null,
      "metadata": {
        "id": "lSL50CZH9_-y",
        "outputId": "f2f074fa-9932-48b4-c0df-3ae810e34332",
        "colab": {
          "base_uri": "https://localhost:8080/"
        }
      },
      "outputs": [
        {
          "output_type": "stream",
          "name": "stdout",
          "text": [
            "Mi nombre es Martín y tu edad en \"2\" años será 26\n"
          ]
        }
      ],
      "source": [
        "print(f\"Mi nombre es {name} y tu edad en \\\"2\\\" años será {edad+2}\")"
      ]
    },
    {
      "cell_type": "markdown",
      "source": [
        "Formateo en : https://realpython.com/python-string-formatting/"
      ],
      "metadata": {
        "id": "vXmIiKuQAO-m"
      }
    },
    {
      "cell_type": "markdown",
      "metadata": {
        "id": "TcsK-no_9_-y"
      },
      "source": [
        "## Condicionales\n",
        "\n",
        "```python\n",
        "if <condition>:\n",
        "    <expression>\n",
        "    <expression>\n",
        "    ...\n",
        "```"
      ]
    },
    {
      "cell_type": "code",
      "execution_count": null,
      "metadata": {
        "id": "XEaNB8zt9_-y",
        "outputId": "24fc326f-0f89-439c-8303-0283c60a5ead"
      },
      "outputs": [
        {
          "name": "stdout",
          "output_type": "stream",
          "text": [
            "Condición es verdadera\n",
            "Y se ejecuta este bloque. Note la indentación\n"
          ]
        }
      ],
      "source": [
        "if True: \n",
        "    print(\"Condición es verdadera\")\n",
        "    print(\"Y se ejecuta este bloque. Note la indentación\")"
      ]
    },
    {
      "cell_type": "code",
      "execution_count": null,
      "metadata": {
        "id": "Z44_P7089_-z",
        "outputId": "574f0394-7b45-47e6-e6fd-96678ea122b9"
      },
      "outputs": [
        {
          "name": "stdout",
          "output_type": "stream",
          "text": [
            "Condición es verdadera\n"
          ]
        }
      ],
      "source": [
        "if 1: print(\"Condición es verdadera\")"
      ]
    },
    {
      "cell_type": "markdown",
      "metadata": {
        "id": "SxPELh5z9_-z"
      },
      "source": [
        "Bloque `else`\n",
        "\n",
        "```python\n",
        "if <condition>:\n",
        "    <expression>\n",
        "    ...\n",
        "else:\n",
        "    <expression>\n",
        "    ...\n",
        "```"
      ]
    },
    {
      "cell_type": "code",
      "execution_count": null,
      "metadata": {
        "id": "vvoKd4669_-z",
        "outputId": "cbd0c0ef-9af3-4c10-f448-92339453ae3d"
      },
      "outputs": [
        {
          "name": "stdout",
          "output_type": "stream",
          "text": [
            "Se ejecuta el bloque else\n"
          ]
        }
      ],
      "source": [
        "if False: \n",
        "    pass\n",
        "else:\n",
        "    print(\"Se ejecuta el bloque else\") "
      ]
    },
    {
      "cell_type": "markdown",
      "metadata": {
        "id": "crWcwvkW9_-z"
      },
      "source": [
        "Cláusula `elif` para condiciones adicionales: \n",
        "\n",
        "```python\n",
        "if <condition>:\n",
        "    <expression>\n",
        "    ...\n",
        "elif <condition>:\n",
        "    <expression>\n",
        "    ...\n",
        "else:\n",
        "    <expression>\n",
        "    ...\n",
        "```"
      ]
    },
    {
      "cell_type": "code",
      "execution_count": null,
      "metadata": {
        "id": "hku3_VJj9_-0",
        "outputId": "a4aa1bb8-a785-4c83-a5bd-ec68a6d23a37",
        "colab": {
          "base_uri": "https://localhost:8080/"
        }
      },
      "outputs": [
        {
          "output_type": "stream",
          "name": "stdout",
          "text": [
            "Enter a number for x: 2\n",
            "Enter a number for y: 2\n",
            "x and y are equal\n",
            "therefore, x / y is 1.0\n",
            "thanks!\n"
          ]
        }
      ],
      "source": [
        "x = float(input(\"Enter a number for x: \"))\n",
        "y = float(input(\"Enter a number for y: \"))\n",
        "if x == y:\n",
        "   print(\"x and y are equal\")\n",
        "   if y != 0: \n",
        "      print(\"therefore, x / y is\", x/y)\n",
        "elif x < y:\n",
        "   print(\"x is smaller\")\n",
        "elif x > y:\n",
        "   print(\"y is smaller\")\n",
        "\n",
        "print(\"thanks!\")"
      ]
    },
    {
      "cell_type": "markdown",
      "metadata": {
        "id": "XSiYbYB69_-0"
      },
      "source": [
        "## Ciclo while\n",
        "\n",
        "Utilizado si queremos repetir una expresión o bloque hasta que se cumpla una condición.\n",
        "\n",
        "```python\n",
        "while <condition>:\n",
        "    <expression>\n",
        "    <expression>\n",
        "    ...\n",
        "```\n",
        "\n"
      ]
    },
    {
      "cell_type": "code",
      "execution_count": null,
      "metadata": {
        "id": "A6GJnmbe9_-0",
        "outputId": "ef4a073f-f6e1-4582-c520-2e8fca698e3e",
        "colab": {
          "base_uri": "https://localhost:8080/"
        }
      },
      "outputs": [
        {
          "output_type": "stream",
          "name": "stdout",
          "text": [
            "0\n",
            "1\n",
            "4\n",
            "25\n",
            "676\n",
            "458329\n"
          ]
        }
      ],
      "source": [
        "n = 0\n",
        "while n < 5000000:\n",
        "    print(n)\n",
        "    n = (n+1) ** 2"
      ]
    },
    {
      "cell_type": "code",
      "execution_count": null,
      "metadata": {
        "id": "gxeOoP6F9_-0",
        "outputId": "3cba4e93-2428-4b22-a69f-b97a29fe0291",
        "colab": {
          "base_uri": "https://localhost:8080/"
        }
      },
      "outputs": [
        {
          "output_type": "stream",
          "name": "stdout",
          "text": [
            "Programar es divertido. Es genial\n",
            "Excelente, ahora eres programador@.\n"
          ]
        }
      ],
      "source": [
        "ans = input(\"Programar es divertido. \")\n",
        "while ans != \"Es genial\":\n",
        "    ans = input(\"Puedes pensarlo nuevamente?: \")\n",
        "print(\"Excelente, ahora eres programador@.\")"
      ]
    },
    {
      "cell_type": "markdown",
      "metadata": {
        "id": "a8q3mtya9_-1"
      },
      "source": [
        "Este es un ciclo infinito. ¿Cómo le incorporamos una condición de finalización?"
      ]
    },
    {
      "cell_type": "code",
      "execution_count": null,
      "metadata": {
        "id": "qXodR-MS9_-1"
      },
      "outputs": [],
      "source": [
        "import time\n",
        "\n",
        "# while True: \n",
        "#     print(\"¡Eres genial!\")\n",
        "#     time.sleep(0.5)"
      ]
    },
    {
      "cell_type": "markdown",
      "metadata": {
        "id": "LbCqF6PA9_-1"
      },
      "source": [
        "## Ciclo for\n",
        "\n",
        "```python\n",
        "for <variable> in range(<some_num>):\n",
        "    <expression>\n",
        "    ...\n",
        "\n",
        "for <variable> in <collection>:\n",
        "    <expression>\n",
        "    ...\n",
        "```"
      ]
    },
    {
      "cell_type": "code",
      "execution_count": null,
      "metadata": {
        "id": "BqskzLNJ9_-1",
        "outputId": "6c78e9cd-27e2-4b70-8c82-aa7f641b471f"
      },
      "outputs": [
        {
          "name": "stdout",
          "output_type": "stream",
          "text": [
            "0\n",
            "1\n",
            "2\n",
            "3\n",
            "4\n"
          ]
        }
      ],
      "source": [
        "n = 0\n",
        "while n < 5:\n",
        "    print(n)\n",
        "    n = n + 1"
      ]
    },
    {
      "cell_type": "code",
      "execution_count": null,
      "metadata": {
        "id": "prFYVsh39_-1",
        "outputId": "c12bbfdc-f770-4315-8946-3ee96c49d033",
        "colab": {
          "base_uri": "https://localhost:8080/"
        }
      },
      "outputs": [
        {
          "output_type": "stream",
          "name": "stdout",
          "text": [
            "0\n",
            "1\n",
            "2\n",
            "3\n",
            "4\n"
          ]
        }
      ],
      "source": [
        "for n in range(5): \n",
        "    print(n)"
      ]
    },
    {
      "cell_type": "markdown",
      "metadata": {
        "id": "73KDymfL9_-1"
      },
      "source": [
        "- `range` posee argumentos `(start, stop [, step])`:"
      ]
    },
    {
      "cell_type": "code",
      "execution_count": null,
      "metadata": {
        "id": "H7SXRqwI9_-1",
        "outputId": "2d673e16-cd03-4a00-acdd-f30f148c55ab",
        "colab": {
          "base_uri": "https://localhost:8080/"
        }
      },
      "outputs": [
        {
          "output_type": "stream",
          "name": "stdout",
          "text": [
            "5\n",
            "6\n",
            "7\n",
            "8\n",
            "9\n"
          ]
        }
      ],
      "source": [
        "for n in range(5, 10, 1): \n",
        "    print(n)"
      ]
    },
    {
      "cell_type": "code",
      "execution_count": null,
      "metadata": {
        "id": "-1lLcY9c9_-2",
        "outputId": "493a49e0-be9c-4cce-c644-803e4513ffe4",
        "colab": {
          "base_uri": "https://localhost:8080/"
        }
      },
      "outputs": [
        {
          "output_type": "stream",
          "name": "stdout",
          "text": [
            "7\n",
            "15\n",
            "24\n"
          ]
        }
      ],
      "source": [
        "# Sumamos números de 7 a 9\n",
        "mysum = 0\n",
        "for i in range(7, 10):\n",
        "    mysum += i\n",
        "    print(mysum)"
      ]
    },
    {
      "cell_type": "code",
      "execution_count": null,
      "metadata": {
        "id": "ZdgxL_cM9_-2",
        "outputId": "412f8722-3710-4d70-b00a-cfaea9a249b3",
        "colab": {
          "base_uri": "https://localhost:8080/"
        }
      },
      "outputs": [
        {
          "output_type": "stream",
          "name": "stdout",
          "text": [
            "5\n",
            "12\n",
            "21\n"
          ]
        }
      ],
      "source": [
        "# Sumamos números impares\n",
        "mysum = 0\n",
        "for i in range(5, 11, 2):\n",
        "    mysum += i\n",
        "    print(mysum)"
      ]
    },
    {
      "cell_type": "markdown",
      "metadata": {
        "id": "Sqh8zJr69_-2"
      },
      "source": [
        "## Break\n",
        "\n",
        "- Fuerza la salida del ciclo actual.\n",
        "- Instrucciones posteriores son ignoradas. \n",
        "- Solamente actúa en el **ciclo más interno**.\n",
        "\n",
        "```python\n",
        "while <condition_1>:\n",
        "    while <condition_2>:\n",
        "        <expression_A>\n",
        "        break\n",
        "        <expression_B>\n",
        "    <expression_C>\n",
        "```"
      ]
    },
    {
      "cell_type": "code",
      "execution_count": null,
      "metadata": {
        "id": "fCSqLo529_-2",
        "outputId": "02f6b4b2-f7ba-4556-d5a6-e44b49c06ba0"
      },
      "outputs": [
        {
          "name": "stdout",
          "output_type": "stream",
          "text": [
            "5\n",
            "Llegué\n",
            "5\n"
          ]
        }
      ],
      "source": [
        "mysum= 0\n",
        "for i in range(5, 11):\n",
        "    mysum += i\n",
        "    print(mysum)\n",
        "    if mysum == 5: \n",
        "        print(\"Llegué\")\n",
        "        break\n",
        "        mysum += 1 \n",
        "print(mysum)"
      ]
    },
    {
      "cell_type": "markdown",
      "metadata": {
        "id": "qmiahyBe9_-3"
      },
      "source": [
        "## Ciclos `for` vs. `while`"
      ]
    },
    {
      "cell_type": "markdown",
      "metadata": {
        "id": "w8aB838z9_-3"
      },
      "source": [
        "- `for`: \n",
        "  - Se conoce el número de iteraciones. \n",
        "  - Utiliza un contador o colección. \n",
        "  - Se puede reescribir como un ciclo `while`. \n",
        "\n",
        "- `while`: \n",
        "  - Número de iteraciones no determinado o acotado. \n",
        "  - Puede utilizar contador, pero debe inicializarse y actualizarlo. \n",
        "  - Condición más compleja de parada, que podría no poder reescribirse como un ciclo `for`."
      ]
    },
    {
      "cell_type": "markdown",
      "metadata": {
        "id": "Ey_3JS4y9_-3"
      },
      "source": [
        "## Ejercicios"
      ]
    },
    {
      "cell_type": "markdown",
      "metadata": {
        "id": "_3fQRm9v9_-3"
      },
      "source": [
        "Reemplaza el comentario para utilizar un ciclo `while`"
      ]
    },
    {
      "cell_type": "code",
      "execution_count": null,
      "metadata": {
        "id": "h4LXrgNj9_-3"
      },
      "outputs": [],
      "source": [
        "numXs = int(input('How many times should I print the letter X? '))\n",
        "toPrint = ''\n",
        "#concatenate X to toPrint numXs times\n",
        "print(toPrint)"
      ]
    },
    {
      "cell_type": "markdown",
      "metadata": {
        "id": "cMk3ZZCO9_-3"
      },
      "source": [
        "Escriba un programa en Python para evaluar lo siguiente de forma iterativa. Continúe la iteración hasta que el cambio debido al último elemento como una fracción del último valor sea menor que $10^{−6}$: $$x = \\frac{1}{1!} + \\frac{2}{2!}+ \\frac{3}{3!}+ \\frac{4}{4!} + \\ldots$$"
      ]
    },
    {
      "cell_type": "code",
      "execution_count": 2,
      "metadata": {
        "id": "kfMGx6o79_-3",
        "outputId": "6037331a-9d04-40de-ef48-bc98cd8c40cb",
        "colab": {
          "base_uri": "https://localhost:8080/"
        }
      },
      "outputs": [
        {
          "output_type": "execute_result",
          "data": {
            "text/plain": [
              "120"
            ]
          },
          "metadata": {},
          "execution_count": 2
        }
      ],
      "source": [
        "import math\n",
        "\n",
        "math.factorial(5)"
      ]
    },
    {
      "cell_type": "markdown",
      "metadata": {
        "id": "sd7dLrln9_-3"
      },
      "source": [
        "Escriba un programa que le pida al usuario que ingrese 5 enteros y luego imprima el número impar más grande que se ingresó. Si no se ingresó un número impar, debería imprimir un mensaje a tal efecto."
      ]
    },
    {
      "cell_type": "code",
      "execution_count": 1,
      "metadata": {
        "id": "gre__VUt9_-4",
        "outputId": "e6373c39-798e-48fb-cc5d-338f78b866c4",
        "colab": {
          "base_uri": "https://localhost:8080/"
        }
      },
      "outputs": [
        {
          "output_type": "execute_result",
          "data": {
            "text/plain": [
              "1e-06"
            ]
          },
          "metadata": {},
          "execution_count": 1
        }
      ],
      "source": [
        "1e-6"
      ]
    },
    {
      "cell_type": "markdown",
      "metadata": {
        "id": "iqXmk_V09_-4"
      },
      "source": [
        "*Más ejercicios en la sección 3.5 de Padmanabhan.*"
      ]
    }
  ],
  "metadata": {
    "interpreter": {
      "hash": "f13a15f6d8e6dbf190362d83f8f24b25050c3603e79608f15fd979d60be4a590"
    },
    "kernelspec": {
      "display_name": "Python 3.9.7 64-bit ('bg': conda)",
      "language": "python",
      "name": "python3"
    },
    "language_info": {
      "codemirror_mode": {
        "name": "ipython",
        "version": 3
      },
      "file_extension": ".py",
      "mimetype": "text/x-python",
      "name": "python",
      "nbconvert_exporter": "python",
      "pygments_lexer": "ipython3",
      "version": "3.9.7"
    },
    "orig_nbformat": 4,
    "colab": {
      "name": "branching-looping-io.ipynb",
      "provenance": [],
      "include_colab_link": true
    }
  },
  "nbformat": 4,
  "nbformat_minor": 0
}