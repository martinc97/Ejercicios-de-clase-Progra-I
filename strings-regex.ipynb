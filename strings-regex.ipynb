{
  "cells": [
    {
      "cell_type": "markdown",
      "metadata": {
        "id": "view-in-github",
        "colab_type": "text"
      },
      "source": [
        "<a href=\"https://colab.research.google.com/github/martinc97/Ejercicios-de-clase-Progra-I/blob/main/strings-regex.ipynb\" target=\"_parent\"><img src=\"https://colab.research.google.com/assets/colab-badge.svg\" alt=\"Open In Colab\"/></a>"
      ]
    },
    {
      "cell_type": "markdown",
      "metadata": {
        "id": "WAE18kRn57Ne"
      },
      "source": [
        "# Manejo de cadenas de texto"
      ]
    },
    {
      "cell_type": "markdown",
      "metadata": {
        "id": "oy69qNfE57Nh"
      },
      "source": [
        "## Cadenas de texto"
      ]
    },
    {
      "cell_type": "code",
      "execution_count": null,
      "metadata": {
        "id": "al-6abVt57Nh"
      },
      "outputs": [],
      "source": [
        "s = \"abcde\""
      ]
    },
    {
      "cell_type": "code",
      "execution_count": null,
      "metadata": {
        "id": "uvVrpKWh57Ni",
        "outputId": "a08a7e4f-deb0-40c0-964b-30bc44f80e8a"
      },
      "outputs": [
        {
          "data": {
            "text/plain": [
              "5"
            ]
          },
          "execution_count": 3,
          "metadata": {},
          "output_type": "execute_result"
        }
      ],
      "source": [
        "len(s)"
      ]
    },
    {
      "cell_type": "code",
      "execution_count": null,
      "metadata": {
        "id": "Zo-F072K57Nj",
        "outputId": "59d5b3b8-1226-4b47-cba3-b46212c884b9"
      },
      "outputs": [
        {
          "data": {
            "text/plain": [
              "'c'"
            ]
          },
          "execution_count": 6,
          "metadata": {},
          "output_type": "execute_result"
        }
      ],
      "source": [
        "s[0] # -> devuelve \"a\"\n",
        "s[1] # -> devuelve \"b\"\n",
        "s[2] # -> devuelve \"c\"\n",
        "s[3] # -> fuera de límites, error\n",
        "s[-1] # -> devuelve \"e\"\n",
        "s[-2] # -> devuelve \"d\"\n",
        "s[-3] # -> devuelve \"c\""
      ]
    },
    {
      "cell_type": "markdown",
      "metadata": {
        "id": "_jisg8aV57Nj"
      },
      "source": [
        "### Slicing"
      ]
    },
    {
      "cell_type": "code",
      "execution_count": null,
      "metadata": {
        "id": "un-rSri-57Nk"
      },
      "outputs": [],
      "source": [
        "s = \"abcdefgh\""
      ]
    },
    {
      "cell_type": "code",
      "execution_count": null,
      "metadata": {
        "id": "xLBWSb5s57Nk",
        "outputId": "a12c3b02-d3e5-4f94-dcca-f51c54437e18"
      },
      "outputs": [
        {
          "data": {
            "text/plain": [
              "'def'"
            ]
          },
          "execution_count": 10,
          "metadata": {},
          "output_type": "execute_result"
        }
      ],
      "source": [
        "s[3:6]"
      ]
    },
    {
      "cell_type": "code",
      "execution_count": null,
      "metadata": {
        "id": "BcQToJDy57Nl",
        "outputId": "27ee63f1-e735-4bdc-bba2-6a4dbc08f32d"
      },
      "outputs": [
        {
          "data": {
            "text/plain": [
              "'def'"
            ]
          },
          "execution_count": 16,
          "metadata": {},
          "output_type": "execute_result"
        }
      ],
      "source": [
        "s[3:6]    # -> devuelve \"def\", s[3:6:1]"
      ]
    },
    {
      "cell_type": "code",
      "execution_count": null,
      "metadata": {
        "id": "-HKj0LK157Nl",
        "outputId": "4328b5cd-bae5-4120-e3c2-f0b7a8fccd2f"
      },
      "outputs": [
        {
          "data": {
            "text/plain": [
              "'df'"
            ]
          },
          "execution_count": 17,
          "metadata": {},
          "output_type": "execute_result"
        }
      ],
      "source": [
        "s[3:6:2]  # -> devuelve \"df\""
      ]
    },
    {
      "cell_type": "code",
      "execution_count": null,
      "metadata": {
        "id": "OTeFgqVK57Nm",
        "outputId": "6dcda629-be0d-4d1b-9bc2-6db03b4f5285"
      },
      "outputs": [
        {
          "data": {
            "text/plain": [
              "'abcdefgh'"
            ]
          },
          "execution_count": 18,
          "metadata": {},
          "output_type": "execute_result"
        }
      ],
      "source": [
        "s[::]     # -> devuelve \"abcdefgh\", s[0:len(s):1]"
      ]
    },
    {
      "cell_type": "code",
      "execution_count": null,
      "metadata": {
        "id": "pMueVPIW57Nm",
        "outputId": "ab416913-bc36-4c69-b9b9-1dafbf991bd9"
      },
      "outputs": [
        {
          "data": {
            "text/plain": [
              "'hgfedcba'"
            ]
          },
          "execution_count": 19,
          "metadata": {},
          "output_type": "execute_result"
        }
      ],
      "source": [
        "s[::-1]   # -> devuelve \"hgfedbca\", s[-1:-(len(s)+1):-1]"
      ]
    },
    {
      "cell_type": "code",
      "execution_count": null,
      "metadata": {
        "id": "LRu1K8Gi57Nm",
        "outputId": "26a4573a-c518-401d-e66e-1f7a56d4542e"
      },
      "outputs": [
        {
          "data": {
            "text/plain": [
              "'ec'"
            ]
          },
          "execution_count": 20,
          "metadata": {},
          "output_type": "execute_result"
        }
      ],
      "source": [
        "s[4:1:-2] # -> devuelve \"ec\""
      ]
    },
    {
      "cell_type": "markdown",
      "metadata": {
        "id": "uE1tHGf157Nm"
      },
      "source": [
        "### Inmutabilidad"
      ]
    },
    {
      "cell_type": "code",
      "execution_count": null,
      "metadata": {
        "id": "Fv3NDe2C57Nn",
        "outputId": "a4d03458-ab3a-4deb-e5ee-9e0020a9211c"
      },
      "outputs": [
        {
          "ename": "TypeError",
          "evalue": "'str' object does not support item assignment",
          "output_type": "error",
          "traceback": [
            "\u001b[1;31m---------------------------------------------------------------------------\u001b[0m",
            "\u001b[1;31mTypeError\u001b[0m                                 Traceback (most recent call last)",
            "\u001b[1;32m~\\AppData\\Local\\Temp/ipykernel_19292/1744329559.py\u001b[0m in \u001b[0;36m<module>\u001b[1;34m\u001b[0m\n\u001b[0;32m      1\u001b[0m \u001b[0ms\u001b[0m \u001b[1;33m=\u001b[0m \u001b[1;34m\"hello\"\u001b[0m\u001b[1;33m\u001b[0m\u001b[1;33m\u001b[0m\u001b[0m\n\u001b[1;32m----> 2\u001b[1;33m \u001b[0ms\u001b[0m\u001b[1;33m[\u001b[0m\u001b[1;36m0\u001b[0m\u001b[1;33m]\u001b[0m \u001b[1;33m=\u001b[0m \u001b[1;34m'y'\u001b[0m\u001b[1;33m\u001b[0m\u001b[1;33m\u001b[0m\u001b[0m\n\u001b[0m",
            "\u001b[1;31mTypeError\u001b[0m: 'str' object does not support item assignment"
          ]
        }
      ],
      "source": [
        "s = \"hello\"\n",
        "s[0] = 'y'"
      ]
    },
    {
      "cell_type": "code",
      "execution_count": null,
      "metadata": {
        "id": "n6ebbjhs57Nn",
        "outputId": "c9cbfbbe-bd60-461e-e5e8-02f336103d91"
      },
      "outputs": [
        {
          "data": {
            "text/plain": [
              "'yello'"
            ]
          },
          "execution_count": 26,
          "metadata": {},
          "output_type": "execute_result"
        }
      ],
      "source": [
        "s = 'y' + s[1:len(s)]\n",
        "s"
      ]
    },
    {
      "cell_type": "markdown",
      "metadata": {
        "id": "NWgMYW8c57Nn"
      },
      "source": [
        "### Iteración sobre los caracteres"
      ]
    },
    {
      "cell_type": "code",
      "execution_count": null,
      "metadata": {
        "id": "eOGGqCmN57No"
      },
      "outputs": [],
      "source": [
        "s = \"abcdefgh\"\n",
        "for index in range(len(s)):\n",
        "    if s[index] == 'i' or s[index] == 'u':\n",
        "        print(\"There is an i or u\")"
      ]
    },
    {
      "cell_type": "markdown",
      "metadata": {
        "id": "KrNMsJjk57No"
      },
      "source": [
        "Esta forma es más *pythónica*"
      ]
    },
    {
      "cell_type": "code",
      "execution_count": null,
      "metadata": {
        "id": "068gqHLq57No"
      },
      "outputs": [],
      "source": [
        "s = \"abcdefgh\"\n",
        "for char in s:\n",
        "    if char == 'i' or char == 'u':\n",
        "        print(\"There is an i or u\")"
      ]
    },
    {
      "cell_type": "markdown",
      "metadata": {
        "id": "QNBszP3W57No"
      },
      "source": [
        "### Ejemplo"
      ]
    },
    {
      "cell_type": "code",
      "execution_count": null,
      "metadata": {
        "id": "NwfAmzDl57No",
        "outputId": "55440d3b-67f6-4f8b-da41-9d82f2997c4f"
      },
      "outputs": [
        {
          "name": "stdout",
          "output_type": "stream",
          "text": [
            "Give me an R! R\n",
            "Give me an o! o\n",
            "Give me a  d! d\n",
            "What does that spell?\n",
            "Rod !!!\n",
            "Rod !!!\n",
            "Rod !!!\n",
            "Rod !!!\n",
            "Rod !!!\n"
          ]
        }
      ],
      "source": [
        "an_letters = \"aefhilmnorsxAEFHILMNORSX\"\n",
        "word = input(\"I will cheer for you! Enter a word: \")\n",
        "times = int(input(\"Enthusiasm level (1-10): \"))\n",
        "\n",
        "i = 0\n",
        "while i < len(word):\n",
        "   char = word[i]\n",
        "   if char in an_letters:\n",
        "       print(\"Give me an \" + char + \"! \" + char)\n",
        "   else:\n",
        "       print(\"Give me a  \" + char + \"! \" + char)\n",
        "   i += 1\n",
        "   \n",
        "print(\"What does that spell?\")\n",
        "for i in range(times):\n",
        "   print(word, \"!!!\")"
      ]
    },
    {
      "cell_type": "markdown",
      "metadata": {
        "id": "Mdg3djrm57Np"
      },
      "source": [
        "## Lectura y escritura de archivos de texto"
      ]
    },
    {
      "cell_type": "code",
      "execution_count": null,
      "metadata": {
        "id": "hqVKJuD357Np",
        "outputId": "ca8de14a-c042-4514-b0f2-1c1457284802"
      },
      "outputs": [
        {
          "data": {
            "text/plain": [
              "'0.9917430691657907\\n0.9952309742515961\\n0.36569092031458994\\n0.6834056691776089\\n0.7533286585949568\\n0.7705128828400343\\n0.014310594379577823\\n0.5905050898124604\\n0.5651945632412787\\n0.6674733505379822'"
            ]
          },
          "execution_count": 51,
          "metadata": {},
          "output_type": "execute_result"
        }
      ],
      "source": [
        "with open(\"data1.txt\", \"r\") as f: \n",
        "    input = f.read() #.splitlines() #.readlines()\n",
        "\n",
        "input"
      ]
    },
    {
      "cell_type": "code",
      "execution_count": null,
      "metadata": {
        "id": "K9s170Zw57Np"
      },
      "outputs": [],
      "source": [
        "# Archivo de salida en modo escritura\n",
        "with open(\"output.txt\", \"w\") as f: \n",
        "    f.write(\"Hola mundo\")"
      ]
    },
    {
      "cell_type": "markdown",
      "metadata": {
        "id": "ItY6WgWd57Np"
      },
      "source": [
        "## Expresiones regulares"
      ]
    },
    {
      "cell_type": "code",
      "execution_count": null,
      "metadata": {
        "id": "n-QdcWtr57Nq"
      },
      "outputs": [],
      "source": [
        "import re"
      ]
    },
    {
      "cell_type": "code",
      "execution_count": null,
      "metadata": {
        "id": "wvEUn_9257Nq",
        "outputId": "628e02a2-d434-4cac-fa84-93904e2d3b29"
      },
      "outputs": [
        {
          "data": {
            "text/plain": [
              "'x=36, y=61\\nx=94, y=8\\nx=85, y=31\\nx=88, y=52\\nx=64, y=37\\nx=24, y=97\\nx=34, y=5\\nx=8, y=30\\nx=46, y=49\\nx=47, y=14\\nx=36, y=66\\nx=38, y=33\\nx=31, y=82\\nx=51, y=25\\nx=81, y=54\\nx=32, y=35\\nx=36, y=81\\nx=71, y=42\\nx=2, y=68\\nx=58, y=2'"
            ]
          },
          "execution_count": 55,
          "metadata": {},
          "output_type": "execute_result"
        }
      ],
      "source": [
        "with open(\"data2.txt\") as f: \n",
        "    rawdata = f.read()\n",
        "rawdata"
      ]
    },
    {
      "cell_type": "code",
      "execution_count": null,
      "metadata": {
        "id": "VEwlXmSW57Nq",
        "outputId": "c989446f-6ad9-4514-e548-50db8801cb5a"
      },
      "outputs": [
        {
          "data": {
            "text/plain": [
              "[('36', '61'),\n",
              " ('94', '8'),\n",
              " ('85', '31'),\n",
              " ('88', '52'),\n",
              " ('64', '37'),\n",
              " ('24', '97'),\n",
              " ('34', '5'),\n",
              " ('8', '30'),\n",
              " ('46', '49'),\n",
              " ('47', '14'),\n",
              " ('36', '66'),\n",
              " ('38', '33'),\n",
              " ('31', '82'),\n",
              " ('51', '25'),\n",
              " ('81', '54'),\n",
              " ('32', '35'),\n",
              " ('36', '81'),\n",
              " ('71', '42'),\n",
              " ('2', '68'),\n",
              " ('58', '2')]"
            ]
          },
          "execution_count": 68,
          "metadata": {},
          "output_type": "execute_result"
        }
      ],
      "source": [
        "# Capturamos ocurrencias del patrón dado sobre el str rawdata\n",
        "coords = re.findall(\"x=(\\d+), y=(\\d+)\", rawdata)\n",
        "coords"
      ]
    },
    {
      "cell_type": "markdown",
      "metadata": {
        "id": "7bRfCT4_57Nq"
      },
      "source": [
        "Ve a https://regex101.com/ para practicar el uso de expresiones regulares."
      ]
    },
    {
      "cell_type": "code",
      "execution_count": null,
      "metadata": {
        "id": "QSMwzy3U57Nq",
        "outputId": "119f1e4f-f691-45c7-bda2-40e7360acda4"
      },
      "outputs": [
        {
          "name": "stdout",
          "output_type": "stream",
          "text": [
            "97,102,116,140,101,121,39,38,95,61,102,71,113,76,135,67,117,113,70,60,"
          ]
        }
      ],
      "source": [
        "for sx, sy in coords: \n",
        "    x = int(sx)\n",
        "    y = int(sy)\n",
        "    print(x + y, end=\",\")"
      ]
    },
    {
      "cell_type": "code",
      "execution_count": null,
      "metadata": {
        "id": "hWmyPLz557Nq"
      },
      "outputs": [],
      "source": [
        ""
      ]
    }
  ],
  "metadata": {
    "interpreter": {
      "hash": "f13a15f6d8e6dbf190362d83f8f24b25050c3603e79608f15fd979d60be4a590"
    },
    "kernelspec": {
      "display_name": "Python 3.9.7 64-bit ('bg': conda)",
      "language": "python",
      "name": "python3"
    },
    "language_info": {
      "codemirror_mode": {
        "name": "ipython",
        "version": 3
      },
      "file_extension": ".py",
      "mimetype": "text/x-python",
      "name": "python",
      "nbconvert_exporter": "python",
      "pygments_lexer": "ipython3",
      "version": "3.9.7"
    },
    "orig_nbformat": 4,
    "colab": {
      "name": "strings-regex.ipynb",
      "provenance": [],
      "include_colab_link": true
    }
  },
  "nbformat": 4,
  "nbformat_minor": 0
}