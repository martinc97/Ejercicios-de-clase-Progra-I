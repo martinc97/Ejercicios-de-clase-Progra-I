{
  "cells": [
    {
      "cell_type": "markdown",
      "metadata": {
        "id": "view-in-github",
        "colab_type": "text"
      },
      "source": [
        "<a href=\"https://colab.research.google.com/github/martinc97/Ejercicios-de-clase-Progra-I/blob/main/functions.ipynb\" target=\"_parent\"><img src=\"https://colab.research.google.com/assets/colab-badge.svg\" alt=\"Open In Colab\"/></a>"
      ]
    },
    {
      "cell_type": "markdown",
      "metadata": {
        "id": "ULm38J8lzcET"
      },
      "source": [
        "## Funciones"
      ]
    },
    {
      "cell_type": "code",
      "execution_count": 1,
      "metadata": {
        "id": "ut9qcb3DzcEV"
      },
      "outputs": [],
      "source": [
        "# Definición de función par\n",
        "def esPar(i: int):\n",
        "    \"\"\" \n",
        "    Input: i, entero \n",
        "    Devuelve True si i es par, si no, False\n",
        "    \"\"\"\n",
        "    remainder = i % 2\n",
        "    return remainder == 0"
      ]
    },
    {
      "cell_type": "code",
      "source": [
        "esPar(5), esPar(4)"
      ],
      "metadata": {
        "colab": {
          "base_uri": "https://localhost:8080/"
        },
        "id": "lWDAPzTI2aWb",
        "outputId": "5328e250-5c4e-431d-9757-e396cb54335b"
      },
      "execution_count": 3,
      "outputs": [
        {
          "output_type": "execute_result",
          "data": {
            "text/plain": [
              "(False, True)"
            ]
          },
          "metadata": {},
          "execution_count": 3
        }
      ]
    },
    {
      "cell_type": "markdown",
      "metadata": {
        "id": "YwWR09cLzcEa"
      },
      "source": [
        "## Scope"
      ]
    },
    {
      "cell_type": "code",
      "execution_count": 5,
      "metadata": {
        "colab": {
          "base_uri": "https://localhost:8080/"
        },
        "id": "IPHb6xuzzcEb",
        "outputId": "bfea60e7-b997-4766-b579-4b4e7fd785c4"
      },
      "outputs": [
        {
          "output_type": "stream",
          "name": "stdout",
          "text": [
            "dentro de f(x): x = 4\n"
          ]
        }
      ],
      "source": [
        "def f(x):\n",
        "    x = x + 1\n",
        "    print('dentro de f(x): x =', x)\n",
        "    return x\n",
        "\n",
        "x = 3\n",
        "z = f(x)"
      ]
    },
    {
      "cell_type": "code",
      "source": [
        "x,z\n"
      ],
      "metadata": {
        "colab": {
          "base_uri": "https://localhost:8080/"
        },
        "id": "LAdaIJ1B5P2E",
        "outputId": "3bd44b0b-31dc-4f3d-c9c0-b4945862c085"
      },
      "execution_count": 6,
      "outputs": [
        {
          "output_type": "execute_result",
          "data": {
            "text/plain": [
              "(3, 4)"
            ]
          },
          "metadata": {},
          "execution_count": 6
        }
      ]
    },
    {
      "cell_type": "markdown",
      "metadata": {
        "id": "aHcLXMP9zcEb"
      },
      "source": [
        "## Funciones sin `return`"
      ]
    },
    {
      "cell_type": "code",
      "execution_count": 7,
      "metadata": {
        "id": "wk-T5u2bzcEc"
      },
      "outputs": [],
      "source": [
        "# Definición de función par\n",
        "def printEven(i):\n",
        "    \"\"\" \n",
        "    Input: i, entero positivo\n",
        "    Imprime True si i es par, si no, False\n",
        "    \"\"\"\n",
        "    remainder = i % 2\n",
        "    print(remainder == 0)"
      ]
    },
    {
      "cell_type": "code",
      "source": [
        "printEven(2)"
      ],
      "metadata": {
        "colab": {
          "base_uri": "https://localhost:8080/"
        },
        "id": "WX24Rdnu9G8Q",
        "outputId": "4a483fc7-a48f-4942-fd08-cc65c4dfae66"
      },
      "execution_count": 8,
      "outputs": [
        {
          "output_type": "stream",
          "name": "stdout",
          "text": [
            "True\n"
          ]
        }
      ]
    },
    {
      "cell_type": "code",
      "source": [
        "a=printEven(2)\n",
        "a is None"
      ],
      "metadata": {
        "colab": {
          "base_uri": "https://localhost:8080/"
        },
        "id": "10xexYhE9QXC",
        "outputId": "68442b90-eb46-48e2-9998-3c837e419b41"
      },
      "execution_count": 10,
      "outputs": [
        {
          "output_type": "stream",
          "name": "stdout",
          "text": [
            "True\n"
          ]
        },
        {
          "output_type": "execute_result",
          "data": {
            "text/plain": [
              "True"
            ]
          },
          "metadata": {},
          "execution_count": 10
        }
      ]
    },
    {
      "cell_type": "markdown",
      "metadata": {
        "id": "aQTFXvlRzcEc"
      },
      "source": [
        "## Funciones de orden superior"
      ]
    },
    {
      "cell_type": "code",
      "execution_count": 11,
      "metadata": {
        "colab": {
          "base_uri": "https://localhost:8080/"
        },
        "id": "2mrPYhX8zcEc",
        "outputId": "e7c9537d-e124-4814-c6d9-b8a7763bb34b"
      },
      "outputs": [
        {
          "output_type": "stream",
          "name": "stdout",
          "text": [
            "inside func_a\n",
            "None\n",
            "inside func_b\n",
            "7\n",
            "inside func_b\n",
            "inside func_a\n",
            "None\n"
          ]
        }
      ],
      "source": [
        "def func_a():\n",
        "    print(\"inside func_a\")\n",
        "\n",
        "def func_b(y):\n",
        "    print(\"inside func_b\")\n",
        "    return y \n",
        "    \n",
        "def func_c(z):\n",
        "    print(\"inside func_b\")\n",
        "    return z()\n",
        "\n",
        "print(func_a()) \n",
        "print(5 + func_b(2))\n",
        "print(func_c(func_a))\n"
      ]
    },
    {
      "cell_type": "code",
      "execution_count": 13,
      "metadata": {
        "id": "VtxbiSODzcEc"
      },
      "outputs": [],
      "source": [
        "def op1(x,y): \n",
        "    return x+y\n",
        "\n",
        "def op2(x,y): \n",
        "    return x*y\n",
        "\n",
        "def operate(x,y, fn: 'function'):\n",
        "    result = fn(x,y)\n",
        "    print(f\"The operation is {fn} and the result is {result}\")\n",
        "    return result\n"
      ]
    },
    {
      "cell_type": "code",
      "execution_count": 14,
      "metadata": {
        "colab": {
          "base_uri": "https://localhost:8080/"
        },
        "id": "_n2dJgowzcEd",
        "outputId": "ab7f14c7-a90c-455f-92f7-436af507b42a"
      },
      "outputs": [
        {
          "output_type": "stream",
          "name": "stdout",
          "text": [
            "The operation is <function op1 at 0x7f42c051b5f0> and the result is 3\n"
          ]
        },
        {
          "output_type": "execute_result",
          "data": {
            "text/plain": [
              "3"
            ]
          },
          "metadata": {},
          "execution_count": 14
        }
      ],
      "source": [
        "operate(1,2, op1)"
      ]
    },
    {
      "cell_type": "markdown",
      "metadata": {
        "id": "bxeBCsKjzcEd"
      },
      "source": [
        "## Acceso a variables globales"
      ]
    },
    {
      "cell_type": "code",
      "execution_count": null,
      "metadata": {
        "id": "fr_RPutLzcEd",
        "outputId": "acfa5c5c-0869-4a8d-c6b6-e796b09a6673"
      },
      "outputs": [
        {
          "name": "stdout",
          "output_type": "stream",
          "text": [
            "5\n",
            "10\n",
            "5\n"
          ]
        }
      ],
      "source": [
        "def g(y):\n",
        "    print(x)\n",
        "    print(x+y)\n",
        "\n",
        "x = 5\n",
        "g(x)\n",
        "print(x)"
      ]
    },
    {
      "cell_type": "code",
      "execution_count": null,
      "metadata": {
        "id": "TIOs-pkqzcEe",
        "outputId": "e9bcc073-9503-4479-fed6-9c8c226fc1c4"
      },
      "outputs": [
        {
          "name": "stdout",
          "output_type": "stream",
          "text": [
            "5\n",
            "5\n"
          ]
        }
      ],
      "source": [
        "def g(y):\n",
        "    print(x)\n",
        "\n",
        "x = 5\n",
        "g(x)\n",
        "print(x)"
      ]
    },
    {
      "cell_type": "markdown",
      "metadata": {
        "id": "-RnxCzQKzcEf"
      },
      "source": [
        "En el siguiente ejemplo, no se puede modificar una variable global definida afuera, porque la variable referenciada es la del entorno local. "
      ]
    },
    {
      "cell_type": "code",
      "execution_count": null,
      "metadata": {
        "id": "igFadunrzcEf",
        "outputId": "a6b4dec1-9f0d-43f5-b3f0-123aeacbbea8"
      },
      "outputs": [
        {
          "ename": "UnboundLocalError",
          "evalue": "local variable 'x' referenced before assignment",
          "output_type": "error",
          "traceback": [
            "\u001b[1;31m---------------------------------------------------------------------------\u001b[0m",
            "\u001b[1;31mUnboundLocalError\u001b[0m                         Traceback (most recent call last)",
            "\u001b[1;32m~\\AppData\\Local\\Temp/ipykernel_20316/3450498882.py\u001b[0m in \u001b[0;36m<module>\u001b[1;34m\u001b[0m\n\u001b[0;32m      3\u001b[0m \u001b[1;33m\u001b[0m\u001b[0m\n\u001b[0;32m      4\u001b[0m \u001b[0mx\u001b[0m \u001b[1;33m=\u001b[0m \u001b[1;36m5\u001b[0m\u001b[1;33m\u001b[0m\u001b[1;33m\u001b[0m\u001b[0m\n\u001b[1;32m----> 5\u001b[1;33m \u001b[0mh\u001b[0m\u001b[1;33m(\u001b[0m\u001b[0mx\u001b[0m\u001b[1;33m)\u001b[0m\u001b[1;33m\u001b[0m\u001b[1;33m\u001b[0m\u001b[0m\n\u001b[0m\u001b[0;32m      6\u001b[0m \u001b[0mprint\u001b[0m\u001b[1;33m(\u001b[0m\u001b[0mx\u001b[0m\u001b[1;33m)\u001b[0m\u001b[1;33m\u001b[0m\u001b[1;33m\u001b[0m\u001b[0m\n",
            "\u001b[1;32m~\\AppData\\Local\\Temp/ipykernel_20316/3450498882.py\u001b[0m in \u001b[0;36mh\u001b[1;34m(y)\u001b[0m\n\u001b[0;32m      1\u001b[0m \u001b[1;32mdef\u001b[0m \u001b[0mh\u001b[0m\u001b[1;33m(\u001b[0m\u001b[0my\u001b[0m\u001b[1;33m)\u001b[0m\u001b[1;33m:\u001b[0m\u001b[1;33m\u001b[0m\u001b[1;33m\u001b[0m\u001b[0m\n\u001b[1;32m----> 2\u001b[1;33m     \u001b[0mx\u001b[0m \u001b[1;33m+=\u001b[0m \u001b[1;36m1\u001b[0m\u001b[1;33m\u001b[0m\u001b[1;33m\u001b[0m\u001b[0m\n\u001b[0m\u001b[0;32m      3\u001b[0m \u001b[1;33m\u001b[0m\u001b[0m\n\u001b[0;32m      4\u001b[0m \u001b[0mx\u001b[0m \u001b[1;33m=\u001b[0m \u001b[1;36m5\u001b[0m\u001b[1;33m\u001b[0m\u001b[1;33m\u001b[0m\u001b[0m\n\u001b[0;32m      5\u001b[0m \u001b[0mh\u001b[0m\u001b[1;33m(\u001b[0m\u001b[0mx\u001b[0m\u001b[1;33m)\u001b[0m\u001b[1;33m\u001b[0m\u001b[1;33m\u001b[0m\u001b[0m\n",
            "\u001b[1;31mUnboundLocalError\u001b[0m: local variable 'x' referenced before assignment"
          ]
        }
      ],
      "source": [
        "def h(y):\n",
        "    x += 1\n",
        "\n",
        "x = 5\n",
        "h(x)\n",
        "print(x)"
      ]
    },
    {
      "cell_type": "markdown",
      "metadata": {
        "id": "k6H-FgUjzcEf"
      },
      "source": [
        "Sin embargo, se puede alterar la definición de una variable global dentro de la función, si esta se pasa como argumento de la función y es mutable."
      ]
    },
    {
      "cell_type": "code",
      "execution_count": 12,
      "metadata": {
        "colab": {
          "base_uri": "https://localhost:8080/"
        },
        "id": "PkwhYRw7zcEf",
        "outputId": "afa0905e-9138-4b5f-8201-e24b730ebee7"
      },
      "outputs": [
        {
          "output_type": "stream",
          "name": "stdout",
          "text": [
            "[1, 2, 3, 5]\n"
          ]
        }
      ],
      "source": [
        "def h(y, x):\n",
        "    x.append(y)\n",
        "    return y+2\n",
        "\n",
        "x = [1,2,3]\n",
        "h(5, x)\n",
        "print(x)"
      ]
    },
    {
      "cell_type": "markdown",
      "metadata": {
        "id": "Tcd4jhNNzcEf"
      },
      "source": [
        "## Detalles en el scope"
      ]
    },
    {
      "cell_type": "code",
      "execution_count": 15,
      "metadata": {
        "colab": {
          "base_uri": "https://localhost:8080/"
        },
        "id": "5u3cocU9zcEg",
        "outputId": "ee24626a-cbd2-47db-8007-7057683ccbd2"
      },
      "outputs": [
        {
          "output_type": "stream",
          "name": "stdout",
          "text": [
            "in g(x): x = 4\n"
          ]
        }
      ],
      "source": [
        "def g(x):\n",
        "    def h():\n",
        "        x = 'abc'\n",
        "    x = x + 1\n",
        "    print('in g(x): x =', x)\n",
        "    h()\n",
        "    return x\n",
        "\n",
        "x = 3\n",
        "z = g(x)"
      ]
    },
    {
      "cell_type": "markdown",
      "metadata": {
        "id": "YoiyZLY3zcEg"
      },
      "source": [
        "## Funciones anónimas\n",
        "\n",
        "- En algunas situaciones se requiere una función de una sola línea. \n",
        "- Podemos utilizarlas para crear funciones de otras funciones más complejas. "
      ]
    },
    {
      "cell_type": "code",
      "execution_count": 16,
      "metadata": {
        "colab": {
          "base_uri": "https://localhost:8080/"
        },
        "id": "K7RNJAU9zcEg",
        "outputId": "bea71a64-cfd6-4709-e4e5-947058d341fa"
      },
      "outputs": [
        {
          "output_type": "execute_result",
          "data": {
            "text/plain": [
              "1"
            ]
          },
          "metadata": {},
          "execution_count": 16
        }
      ],
      "source": [
        "f = lambda x: x**2 - x - 1\n",
        "\n",
        "f(2)"
      ]
    },
    {
      "cell_type": "code",
      "execution_count": 17,
      "metadata": {
        "colab": {
          "base_uri": "https://localhost:8080/"
        },
        "id": "iLv1PSH0zcEg",
        "outputId": "d329ecbe-b5b6-4a31-8c7f-ab30d8875480"
      },
      "outputs": [
        {
          "output_type": "execute_result",
          "data": {
            "text/plain": [
              "9"
            ]
          },
          "metadata": {},
          "execution_count": 17
        }
      ],
      "source": [
        "def complicated_fn(a,b,c,d,e): \n",
        "    return a+b+c+d+e\n",
        "\n",
        "simple_fn = lambda a,b: complicated_fn(a, b, 1, 2, 3)\n",
        "\n",
        "simple_fn(1,2)"
      ]
    },
    {
      "cell_type": "markdown",
      "metadata": {
        "id": "JUUOcA-KzcEg"
      },
      "source": [
        "## Argumentos por defecto"
      ]
    },
    {
      "cell_type": "code",
      "execution_count": 18,
      "metadata": {
        "colab": {
          "base_uri": "https://localhost:8080/"
        },
        "id": "2eLL8m4HzcEh",
        "outputId": "398f0db3-386d-4bf8-d7ab-c8e4bac81b18"
      },
      "outputs": [
        {
          "output_type": "execute_result",
          "data": {
            "text/plain": [
              "3"
            ]
          },
          "metadata": {},
          "execution_count": 18
        }
      ],
      "source": [
        "def myfn(a=1, b=2): \n",
        "    return a+b\n",
        "\n",
        "myfn()"
      ]
    },
    {
      "cell_type": "markdown",
      "metadata": {
        "id": "FLyE1clXzcEh"
      },
      "source": [
        "Podemos también llamar a una función nombrando sus argumentos, e incluso, cambiándoles el orden."
      ]
    },
    {
      "cell_type": "code",
      "execution_count": 19,
      "metadata": {
        "colab": {
          "base_uri": "https://localhost:8080/"
        },
        "id": "o4gtAHUczcEh",
        "outputId": "37516718-a446-4f24-bb73-283792b28d2a"
      },
      "outputs": [
        {
          "output_type": "execute_result",
          "data": {
            "text/plain": [
              "3"
            ]
          },
          "metadata": {},
          "execution_count": 19
        }
      ],
      "source": [
        "myfn(b=1, a=2)"
      ]
    },
    {
      "cell_type": "markdown",
      "source": [
        "FUNCIONES CON ARGUMENTOS VARIABLES"
      ],
      "metadata": {
        "id": "IoNANRfgQZz6"
      }
    },
    {
      "cell_type": "code",
      "source": [
        "def mysum(a,b,*c):\n",
        "    sum = a + b\n",
        "    print(\"colección: \", c)\n",
        "    if len(c) > 0: print(\"primer elem: \", c[0])\n",
        "    for i in c:\n",
        "        sum += i\n",
        "    return sum"
      ],
      "metadata": {
        "id": "IQoo-tCZQeZo"
      },
      "execution_count": 24,
      "outputs": []
    },
    {
      "cell_type": "code",
      "source": [
        "mysum(1,2,3,4)"
      ],
      "metadata": {
        "id": "SUbIXGg-Qs4z",
        "outputId": "0593a12e-c770-4d16-df85-7d57731c7d64",
        "colab": {
          "base_uri": "https://localhost:8080/"
        }
      },
      "execution_count": 25,
      "outputs": [
        {
          "output_type": "stream",
          "name": "stdout",
          "text": [
            "colección:  (3, 4)\n",
            "primer elem:  3\n"
          ]
        },
        {
          "output_type": "execute_result",
          "data": {
            "text/plain": [
              "10"
            ]
          },
          "metadata": {},
          "execution_count": 25
        }
      ]
    },
    {
      "cell_type": "markdown",
      "metadata": {
        "id": "-ysNaEQCzcEh"
      },
      "source": [
        "## Ejercicios"
      ]
    },
    {
      "cell_type": "markdown",
      "metadata": {
        "id": "PkZ7IYUXzcEh"
      },
      "source": [
        "- Crear una función para el método de Newton-Raphson que reciba una función $f$ y su derivada $f^\\prime$ para computar un cero de la función a partir de un punto inicial $x_0$. \n",
        "  - Se debe imponer una condición de parada basada en precisión y en número de iteraciones"
      ]
    },
    {
      "cell_type": "code",
      "execution_count": null,
      "metadata": {
        "id": "iUx3e3dVzcEh"
      },
      "outputs": [],
      "source": [
        ""
      ]
    },
    {
      "cell_type": "markdown",
      "metadata": {
        "id": "H-A1Gt7wzcEh"
      },
      "source": [
        "- Defina una función para obtener una aproximación de $\\pi = 3.141592\\ldots$ utilizando una aproximación sucesiva de $n$ términos. Vea, por ejemplo, [este enlace](https://en.wikipedia.org/wiki/Leibniz_formula_for_%CF%80) o [este otro](http://www.geom.uiuc.edu/~huberty/math5337/groupe/expresspi.html)."
      ]
    },
    {
      "cell_type": "code",
      "execution_count": null,
      "metadata": {
        "id": "pVrYcbN8zcEi"
      },
      "outputs": [],
      "source": [
        ""
      ]
    },
    {
      "cell_type": "markdown",
      "metadata": {
        "id": "qZDS5NkozcEi"
      },
      "source": [
        "- Escriba una función para determinar si un número es primo o no."
      ]
    },
    {
      "cell_type": "code",
      "execution_count": null,
      "metadata": {
        "id": "jDm6ynWUzcEi"
      },
      "outputs": [],
      "source": [
        ""
      ]
    }
  ],
  "metadata": {
    "interpreter": {
      "hash": "f13a15f6d8e6dbf190362d83f8f24b25050c3603e79608f15fd979d60be4a590"
    },
    "kernelspec": {
      "display_name": "Python 3.9.7 64-bit ('bg': conda)",
      "language": "python",
      "name": "python3"
    },
    "language_info": {
      "codemirror_mode": {
        "name": "ipython",
        "version": 3
      },
      "file_extension": ".py",
      "mimetype": "text/x-python",
      "name": "python",
      "nbconvert_exporter": "python",
      "pygments_lexer": "ipython3",
      "version": "3.9.7"
    },
    "orig_nbformat": 4,
    "colab": {
      "name": "functions.ipynb",
      "provenance": [],
      "include_colab_link": true
    }
  },
  "nbformat": 4,
  "nbformat_minor": 0
}