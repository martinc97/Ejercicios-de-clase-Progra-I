{
  "cells": [
    {
      "cell_type": "markdown",
      "metadata": {
        "id": "view-in-github",
        "colab_type": "text"
      },
      "source": [
        "<a href=\"https://colab.research.google.com/github/martinc97/Ejercicios-de-clase-Progra-I/blob/main/guess-check.ipynb\" target=\"_parent\"><img src=\"https://colab.research.google.com/assets/colab-badge.svg\" alt=\"Open In Colab\"/></a>"
      ]
    },
    {
      "cell_type": "markdown",
      "metadata": {
        "id": "OjzwYCmDN494"
      },
      "source": [
        "# *Guess and check* y métodos de aproximación"
      ]
    },
    {
      "cell_type": "markdown",
      "metadata": {
        "id": "QbVahAPJN497"
      },
      "source": [
        "A este tipo de algoritmos se les conoce también como de *enumeración exhaustiva* o de *fuerza bruta*. \n",
        "\n",
        "Dado un problema: \n",
        "1. Podemos proponer/adivinar una solución. \n",
        "2. Podemos verificar si la solución propuesta es correcta. \n",
        "3. Repetimos 1 y 2 hasta encontrar la solución. "
      ]
    },
    {
      "cell_type": "code",
      "execution_count": null,
      "metadata": {
        "id": "8Vw2_RIWN498"
      },
      "outputs": [],
      "source": [
        "cube = 27\n",
        "#cube = 8120601"
      ]
    },
    {
      "cell_type": "code",
      "execution_count": null,
      "metadata": {
        "id": "urg7-M6wN499"
      },
      "outputs": [],
      "source": [
        "for guess in range(cube+1):\n",
        "    if guess**3 == cube:\n",
        "        print(f\"Cube root of {cube} is {guess}\")"
      ]
    },
    {
      "cell_type": "markdown",
      "metadata": {
        "id": "CS6bfBzUN499"
      },
      "source": [
        "- ¿Cómo podemos salir si encontramos la solución?\n",
        "- ¿Qué pasa si `cube` no tiene cubo perfecto o es negativo?\n",
        "\n",
        "A continuación vemos una posible solución"
      ]
    },
    {
      "cell_type": "code",
      "execution_count": null,
      "metadata": {
        "id": "D0GL94BKN499",
        "outputId": "11677d8e-6623-4faa-9fe9-afe1ad73dc0b"
      },
      "outputs": [
        {
          "name": "stdout",
          "output_type": "stream",
          "text": [
            "Cube root of -27 is -3\n"
          ]
        }
      ],
      "source": [
        "cube = -27\n",
        "\n",
        "for guess in range(abs(cube)+1):\n",
        "   # passed all potential cube roots\n",
        "   if guess**3 >= abs(cube):\n",
        "       # no need to keep searching\n",
        "       break\n",
        "\n",
        "if guess**3 != abs(cube):\n",
        "   print(cube, 'is not a perfect cube')\n",
        "else:\n",
        "   if cube < 0:\n",
        "       guess = -guess\n",
        "   print('Cube root of ' + str(cube) + ' is ' + str(guess))"
      ]
    },
    {
      "cell_type": "markdown",
      "metadata": {
        "id": "QbZEeAs6N49_"
      },
      "source": [
        "## Métodos de aproximación\n",
        "\n",
        "En ocasiones, basta con una solución lo {\\blue\\bfseries suficientemente buena}. \n",
        "\n",
        "Dado un problema: \n",
        "1. Proponemos una solución, aumentando por un pequeño valor $\\delta$: $x_{t+1} = x_{t} + \\delta$.\n",
        "2. Si el error en la solución es muy grande, seguimos iterando, es decir, si `|guess**3 - cube| >= epsilon`. \n",
        "\n",
        "La utilización de este algoritmo implica que: \n",
        "- Si $\\epsilon$ aumenta, tenemos menor precisión en la solución. \n",
        "- Si $\\epsilon$ disminuye, el algoritmo requiere más iteraciones. "
      ]
    },
    {
      "cell_type": "code",
      "execution_count": null,
      "metadata": {
        "id": "Lzeh78juN4-A",
        "outputId": "97e03166-9f4f-41cb-ad7a-bb974bf8d5f3"
      },
      "outputs": [
        {
          "name": "stdout",
          "output_type": "stream",
          "text": [
            "num_guesses = 500\n",
            "2.999999999999945 is close to the cube root of 27\n"
          ]
        }
      ],
      "source": [
        "cube = 27\n",
        "\n",
        "epsilon = 0.01\n",
        "guess = 2.5\n",
        "increment = 0.001\n",
        "num_guesses = 0\n",
        "\n",
        "while abs(guess**3 - cube) >= epsilon and guess <= cube:\n",
        "   guess += increment\n",
        "   num_guesses += 1\n",
        "\n",
        "print('num_guesses =', num_guesses)\n",
        "if abs(guess**3 - cube) >= epsilon:\n",
        "   print('Failed on cube root of', cube)\n",
        "else:\n",
        "   print(guess, 'is close to the cube root of', cube)"
      ]
    },
    {
      "cell_type": "markdown",
      "metadata": {
        "id": "vTJUAE5pN4-A"
      },
      "source": [
        "- Notar la condición de parada del algoritmo. \n",
        "  - ¿Cómo podemos implementar una condición de parada basada en el número de iteraciones? "
      ]
    },
    {
      "cell_type": "markdown",
      "metadata": {
        "id": "CgAqboLtN4-B"
      },
      "source": [
        "## Búsqueda por bisección"
      ]
    },
    {
      "cell_type": "code",
      "execution_count": null,
      "metadata": {
        "id": "K2SSelnSN4-B",
        "outputId": "b5ab34e5-0b68-49aa-c33b-20be282c9826"
      },
      "outputs": [
        {
          "name": "stdout",
          "output_type": "stream",
          "text": [
            "iter:  1 \tsqrt3:  6.75\n",
            "iter:  2 \tsqrt3:  3.375\n",
            "iter:  3 \tsqrt3:  1.6875\n",
            "iter:  4 \tsqrt3:  2.53125\n",
            "iter:  5 \tsqrt3:  2.953125\n",
            "iter:  6 \tsqrt3:  3.1640625\n",
            "iter:  7 \tsqrt3:  3.05859375\n",
            "iter:  8 \tsqrt3:  3.005859375\n",
            "iter:  9 \tsqrt3:  2.9794921875\n",
            "iter:  10 \tsqrt3:  2.99267578125\n",
            "iter:  11 \tsqrt3:  2.999267578125\n",
            "iter:  12 \tsqrt3:  3.0025634765625\n",
            "iter:  13 \tsqrt3:  3.00091552734375\n",
            "iter:  14 \tsqrt3:  3.000091552734375\n"
          ]
        }
      ],
      "source": [
        "cube = 27\n",
        "\n",
        "epsilon = 0.01\n",
        "iter = 0 \n",
        "low, high = 0, cube # <---- preguntas\n",
        "guess = (high + low)/2.0\n",
        "\n",
        "while abs(guess**3 - cube) >= epsilon and iter < 1000:\n",
        "    if guess**3 < cube:\n",
        "        # look only in upper half search space\n",
        "        low = guess\n",
        "    else:\n",
        "        # look only in lower half search space\n",
        "        high = guess\n",
        "\n",
        "    guess = (high + low)/2.0\n",
        "    iter += 1\n",
        "    print('iter: ', iter, '\\tsqrt3: ', guess)"
      ]
    },
    {
      "cell_type": "markdown",
      "metadata": {
        "id": "NQHcvXhBN4-C"
      },
      "source": [
        "- La solución candidata converge en un orden de $\\log_2 N$ pasos.\n",
        "- La búsqueda de bisección funciona cuando la función varía monótonamente de acuerdo a la entrada.       \n",
        "- El código anterior funciona solamente para cubos positivos mayores a $1$. ¿Por qué?"
      ]
    },
    {
      "cell_type": "markdown",
      "metadata": {
        "id": "xxUaatt0N4-C"
      },
      "source": [
        "## Ejercicios"
      ]
    },
    {
      "cell_type": "markdown",
      "metadata": {
        "id": "7ZlDEVTNN4-C"
      },
      "source": [
        "- Los métodos numéricos para resolver ecuaciones (incluso en una sola variable) adoptan varias formas. A menos que uno tenga una idea bastante clara de la naturaleza / región de la solución buscada, las cosas pueden salirse de control.Como ejemplo, considere la solución de la cuadrática en $x$: $x^2 - x - 1 = 0$. Las dos soluciones son $\\frac{1}{2}\\left(1+\\sqrt{5} \\right)$. Un enfoque para resolver x es el siguiente: $$x_{k+1} = \\sqrt{x_{k} + 1}$$ Esta regla de iteración surge de la ecuación anterior, despejando $x^2$ y asignando al lado izquierdo de la ecuación el subíndice $k+1$ y a las del lado izquierdo el subíndice $k$. ¿Qué pasa si en vez de despejar $x^2$, despejamos $x$? "
      ]
    },
    {
      "cell_type": "code",
      "execution_count": null,
      "metadata": {
        "id": "DEHYKEnWN4-C",
        "outputId": "0781f259-bbd7-48c0-868c-0ab52f9e566c"
      },
      "outputs": [
        {
          "name": "stdout",
          "output_type": "stream",
          "text": [
            "iter: 0 x = 0.1\n",
            "iter: 1 x = 1.0488088481701516\n",
            "iter: 2 x = 1.4313660776231047\n",
            "iter: 3 x = 1.5592838348495457\n",
            "iter: 4 x = 1.5997761827360557\n",
            "iter: 5 x = 1.6123821453787113\n",
            "iter: 6 x = 1.6162865294800643\n",
            "iter: 7 x = 1.6174939040008973\n",
            "iter: 8 x = 1.617867084775785\n"
          ]
        }
      ],
      "source": [
        "import math\n",
        "\n",
        "x = 0.1\n",
        "iter, maxiter = 0, 100\n",
        "absdiff = math.inf\n",
        "epsilon = 1e-3\n",
        "print(f\"iter: {iter} x = {x}\")\n",
        "\n",
        "while absdiff > epsilon and iter < maxiter: \n",
        "    x_new = math.sqrt(x + 1)\n",
        "    absdiff = abs(x_new - x)\n",
        "    x = x_new\n",
        "    iter += 1 \n",
        "    print(f\"iter: {iter} x = {x}\")\n"
      ]
    },
    {
      "cell_type": "markdown",
      "metadata": {
        "id": "pS67b43TN4-D"
      },
      "source": [
        "- Implemente el algoritmo de Newton-Raphson para resolver la ecuación $x^2 - x - 1 = 0$. Implemente condiciones de parada en número de iteraciones y precisión, puede guiarse con el algoritmo de arriba. El método utiliza la siguiente regla de iteración: $$x_{k+1} = x_{k} - \\frac{f(x_{k})}{f^\\prime(x_{k})}$$"
      ]
    },
    {
      "cell_type": "code",
      "execution_count": null,
      "metadata": {
        "id": "ha7yPxCiN4-D"
      },
      "outputs": [],
      "source": [
        ""
      ]
    }
  ],
  "metadata": {
    "interpreter": {
      "hash": "f13a15f6d8e6dbf190362d83f8f24b25050c3603e79608f15fd979d60be4a590"
    },
    "kernelspec": {
      "display_name": "Python 3.9.7 64-bit ('bg': conda)",
      "language": "python",
      "name": "python3"
    },
    "language_info": {
      "codemirror_mode": {
        "name": "ipython",
        "version": 3
      },
      "file_extension": ".py",
      "mimetype": "text/x-python",
      "name": "python",
      "nbconvert_exporter": "python",
      "pygments_lexer": "ipython3",
      "version": "3.9.7"
    },
    "orig_nbformat": 4,
    "colab": {
      "name": "guess-check.ipynb",
      "provenance": [],
      "include_colab_link": true
    }
  },
  "nbformat": 4,
  "nbformat_minor": 0
}