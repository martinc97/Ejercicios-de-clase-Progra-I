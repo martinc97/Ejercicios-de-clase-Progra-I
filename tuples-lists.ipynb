{
  "cells": [
    {
      "cell_type": "markdown",
      "metadata": {
        "id": "view-in-github",
        "colab_type": "text"
      },
      "source": [
        "<a href=\"https://colab.research.google.com/github/martinc97/Ejercicios-de-clase-Progra-I/blob/main/tuples-lists.ipynb\" target=\"_parent\"><img src=\"https://colab.research.google.com/assets/colab-badge.svg\" alt=\"Open In Colab\"/></a>"
      ]
    },
    {
      "cell_type": "markdown",
      "metadata": {
        "id": "FBSUqOgKUWS7"
      },
      "source": [
        "# Tuplas y listas"
      ]
    },
    {
      "cell_type": "markdown",
      "metadata": {
        "id": "5Fn5mWaIUWS8"
      },
      "source": [
        "## Tuplas\n",
        "\n",
        "- Secuencia ordenada de elementos, que pueden ser de diferentes tipos.\n",
        "- No es posible alterar sus elementos, son **inmutables**.\n",
        "- Se representan con paréntesis. "
      ]
    },
    {
      "cell_type": "code",
      "execution_count": 1,
      "metadata": {
        "id": "P1VAsP5NUWTC",
        "outputId": "b5dcb142-6d23-4df6-c6ff-ccadf708824e",
        "colab": {
          "base_uri": "https://localhost:8080/"
        }
      },
      "outputs": [
        {
          "output_type": "execute_result",
          "data": {
            "text/plain": [
              "()"
            ]
          },
          "metadata": {},
          "execution_count": 1
        }
      ],
      "source": [
        "empty_tuple = ()\n",
        "empty_tuple"
      ]
    },
    {
      "cell_type": "code",
      "execution_count": 2,
      "metadata": {
        "id": "oLg5JSFPUWTD",
        "outputId": "76e08ee8-f8d3-4028-c037-095c8c49ed0c",
        "colab": {
          "base_uri": "https://localhost:8080/"
        }
      },
      "outputs": [
        {
          "output_type": "execute_result",
          "data": {
            "text/plain": [
              "(2,)"
            ]
          },
          "metadata": {},
          "execution_count": 2
        }
      ],
      "source": [
        "singleton_tuple = (2,)\n",
        "singleton_tuple"
      ]
    },
    {
      "cell_type": "code",
      "execution_count": 3,
      "metadata": {
        "id": "q7lL5aS0UWTE",
        "outputId": "fd38e1ef-476b-4479-87cf-7fb76dd7be77",
        "colab": {
          "base_uri": "https://localhost:8080/"
        }
      },
      "outputs": [
        {
          "output_type": "execute_result",
          "data": {
            "text/plain": [
              "(2, 'pes', 3.2)"
            ]
          },
          "metadata": {},
          "execution_count": 3
        }
      ],
      "source": [
        "t = (2, \"pes\", 3.2)\n",
        "t"
      ]
    },
    {
      "cell_type": "code",
      "execution_count": 4,
      "metadata": {
        "id": "n0rSsdOXUWTE",
        "outputId": "b9ada6e2-3716-445f-d91d-4dd86952b767",
        "colab": {
          "base_uri": "https://localhost:8080/"
        }
      },
      "outputs": [
        {
          "output_type": "execute_result",
          "data": {
            "text/plain": [
              "2"
            ]
          },
          "metadata": {},
          "execution_count": 4
        }
      ],
      "source": [
        "t[0]"
      ]
    },
    {
      "cell_type": "code",
      "execution_count": 5,
      "metadata": {
        "id": "GFn9GamTUWTE",
        "outputId": "2f4551ad-55f8-4a9f-c104-d27b86de0dc8",
        "colab": {
          "base_uri": "https://localhost:8080/"
        }
      },
      "outputs": [
        {
          "output_type": "execute_result",
          "data": {
            "text/plain": [
              "(2, 'pes', 3.2, 5, 6)"
            ]
          },
          "metadata": {},
          "execution_count": 5
        }
      ],
      "source": [
        "t + (5, 6)"
      ]
    },
    {
      "cell_type": "code",
      "execution_count": 6,
      "metadata": {
        "id": "0U83q-YAUWTE",
        "outputId": "809def3b-c1b2-4cc3-c961-f71528b508c1",
        "colab": {
          "base_uri": "https://localhost:8080/"
        }
      },
      "outputs": [
        {
          "output_type": "execute_result",
          "data": {
            "text/plain": [
              "('pes',)"
            ]
          },
          "metadata": {},
          "execution_count": 6
        }
      ],
      "source": [
        "t[1:2]"
      ]
    },
    {
      "cell_type": "code",
      "execution_count": 7,
      "metadata": {
        "id": "YwRcJMzGUWTF",
        "outputId": "26fc7eaf-d789-4c0e-bdde-11236825102d",
        "colab": {
          "base_uri": "https://localhost:8080/",
          "height": 165
        }
      },
      "outputs": [
        {
          "output_type": "error",
          "ename": "TypeError",
          "evalue": "ignored",
          "traceback": [
            "\u001b[0;31m---------------------------------------------------------------------------\u001b[0m",
            "\u001b[0;31mTypeError\u001b[0m                                 Traceback (most recent call last)",
            "\u001b[0;32m<ipython-input-7-91448c5f771b>\u001b[0m in \u001b[0;36m<module>\u001b[0;34m()\u001b[0m\n\u001b[0;32m----> 1\u001b[0;31m \u001b[0mt\u001b[0m\u001b[0;34m[\u001b[0m\u001b[0;36m1\u001b[0m\u001b[0;34m]\u001b[0m \u001b[0;34m=\u001b[0m \u001b[0;36m3\u001b[0m\u001b[0;34m\u001b[0m\u001b[0;34m\u001b[0m\u001b[0m\n\u001b[0m",
            "\u001b[0;31mTypeError\u001b[0m: 'tuple' object does not support item assignment"
          ]
        }
      ],
      "source": [
        "t[1] = 3"
      ]
    },
    {
      "cell_type": "markdown",
      "metadata": {
        "id": "Ycvm64SsUWTF"
      },
      "source": [
        "- Son convenientemente utilizadas para intercambiar los valores de un par de variables: "
      ]
    },
    {
      "cell_type": "code",
      "execution_count": 8,
      "metadata": {
        "id": "uG-DSDAgUWTF",
        "outputId": "aaa7460b-1241-46dc-b106-605ea0e29b0b",
        "colab": {
          "base_uri": "https://localhost:8080/"
        }
      },
      "outputs": [
        {
          "output_type": "execute_result",
          "data": {
            "text/plain": [
              "(3, 2)"
            ]
          },
          "metadata": {},
          "execution_count": 8
        }
      ],
      "source": [
        "x = 2\n",
        "y = 3\n",
        "x, y = y, x\n",
        "x, y"
      ]
    },
    {
      "cell_type": "markdown",
      "metadata": {
        "id": "WtuRcoADUWTF"
      },
      "source": [
        "- También pueden utilizarse para devolver más de un valor en una función: "
      ]
    },
    {
      "cell_type": "code",
      "execution_count": 9,
      "metadata": {
        "id": "raJg-WaEUWTG",
        "outputId": "857497e6-c9c4-459b-8a86-9a45742aa306",
        "colab": {
          "base_uri": "https://localhost:8080/"
        }
      },
      "outputs": [
        {
          "output_type": "execute_result",
          "data": {
            "text/plain": [
              "(2, 1)"
            ]
          },
          "metadata": {},
          "execution_count": 9
        }
      ],
      "source": [
        "def quotient_and_remainder(x, y): \n",
        "    q = x // y \n",
        "    r = x % y \n",
        "    return q, r\n",
        "\n",
        "\n",
        "quotient_and_remainder(5, 2)"
      ]
    },
    {
      "cell_type": "markdown",
      "metadata": {
        "id": "xhh_uHZ4UWTG"
      },
      "source": [
        "- Iteración sobre tuplas: "
      ]
    },
    {
      "cell_type": "code",
      "execution_count": 10,
      "metadata": {
        "id": "PO28ZuDnUWTG",
        "outputId": "da1103bc-9f3a-44c9-e078-817b22457306",
        "colab": {
          "base_uri": "https://localhost:8080/"
        }
      },
      "outputs": [
        {
          "output_type": "stream",
          "name": "stdout",
          "text": [
            "2 es de tipo <class 'int'>\n",
            "pes es de tipo <class 'str'>\n",
            "3.2 es de tipo <class 'float'>\n"
          ]
        }
      ],
      "source": [
        "t = (2, \"pes\", 3.2)\n",
        "\n",
        "for elem in t: \n",
        "    print(elem, \"es de tipo\", type(elem))"
      ]
    },
    {
      "cell_type": "markdown",
      "metadata": {
        "id": "cLlDGkRXUWTG"
      },
      "source": [
        "- Tuplas de tuplas: "
      ]
    },
    {
      "cell_type": "code",
      "execution_count": 11,
      "metadata": {
        "id": "z1Loeh1NUWTG",
        "outputId": "13a8a3b3-b66b-4885-b0cd-c5a46604955c",
        "colab": {
          "base_uri": "https://localhost:8080/"
        }
      },
      "outputs": [
        {
          "output_type": "execute_result",
          "data": {
            "text/plain": [
              "(1, 3, 2)"
            ]
          },
          "metadata": {},
          "execution_count": 11
        }
      ],
      "source": [
        "# Computa rango y número de palabras únicas\n",
        "def get_data(aTuple):\n",
        "    nums = ()\n",
        "    words = ()\n",
        "    for t in aTuple:\n",
        "        nums = nums + (t[0],)\n",
        "        if t[1] not in words:\n",
        "            words = words + (t[1],)\n",
        "    \n",
        "    min_n = min(nums)\n",
        "    max_n = max(nums)\n",
        "    unique_words = len(words)\n",
        "    return (min_n, max_n, unique_words)\n",
        "    \n",
        "aTuple = ((1, 'a'), (2, 'b'), (3, 'b'))\n",
        "get_data(aTuple)"
      ]
    },
    {
      "cell_type": "markdown",
      "metadata": {
        "id": "dyJgjx3kUWTH"
      },
      "source": [
        "## Tuplas\n",
        "\n",
        "- Secuencia ordenada de elementos, que pueden ser de diferentes tipos.\n",
        "  - Pero usualmente son del mismo tipo. \n",
        "- No es posible alterar sus elementos, son **inmutables**.\n",
        "- Se representan utilizando corchetes `[]`. \n",
        "- Los **elementos pueden ser alterados**, por lo que la lista es **mutable**."
      ]
    },
    {
      "cell_type": "code",
      "execution_count": 12,
      "metadata": {
        "id": "NXxXJ9euUWTH",
        "outputId": "d1f32c78-82f3-403d-cb54-fc4c03b81961",
        "colab": {
          "base_uri": "https://localhost:8080/"
        }
      },
      "outputs": [
        {
          "output_type": "execute_result",
          "data": {
            "text/plain": [
              "[]"
            ]
          },
          "metadata": {},
          "execution_count": 12
        }
      ],
      "source": [
        "l = []\n",
        "l"
      ]
    },
    {
      "cell_type": "code",
      "execution_count": 13,
      "metadata": {
        "id": "djyJTb19UWTH",
        "outputId": "eedbe941-2837-40a0-ba58-eb62c4795dba",
        "colab": {
          "base_uri": "https://localhost:8080/"
        }
      },
      "outputs": [
        {
          "output_type": "execute_result",
          "data": {
            "text/plain": [
              "4"
            ]
          },
          "metadata": {},
          "execution_count": 13
        }
      ],
      "source": [
        "l = [2, 'a', 4, [1,2]]\n",
        "len(l)"
      ]
    },
    {
      "cell_type": "code",
      "execution_count": 14,
      "metadata": {
        "id": "9iDZAGPSUWTH",
        "outputId": "5e7f30b5-7216-4eb9-9dc9-d457abc9df60",
        "colab": {
          "base_uri": "https://localhost:8080/"
        }
      },
      "outputs": [
        {
          "output_type": "execute_result",
          "data": {
            "text/plain": [
              "2"
            ]
          },
          "metadata": {},
          "execution_count": 14
        }
      ],
      "source": [
        "l[0]"
      ]
    },
    {
      "cell_type": "code",
      "execution_count": 15,
      "metadata": {
        "id": "iz0MLVzYUWTI",
        "outputId": "dc5f420f-2621-455a-c455-02ae650acd1c",
        "colab": {
          "base_uri": "https://localhost:8080/"
        }
      },
      "outputs": [
        {
          "output_type": "execute_result",
          "data": {
            "text/plain": [
              "2"
            ]
          },
          "metadata": {},
          "execution_count": 15
        }
      ],
      "source": [
        "l[-1][1]"
      ]
    },
    {
      "cell_type": "markdown",
      "metadata": {
        "id": "RLPN8OvNUWTI"
      },
      "source": [
        "- Cambiamos un elemento y la lista es ahora diferente"
      ]
    },
    {
      "cell_type": "code",
      "execution_count": 16,
      "metadata": {
        "id": "JY4uvG2fUWTI",
        "outputId": "2a615fff-ecb5-410b-c2d6-e06a935fd83d",
        "colab": {
          "base_uri": "https://localhost:8080/"
        }
      },
      "outputs": [
        {
          "output_type": "execute_result",
          "data": {
            "text/plain": [
              "[2, 1, 3]"
            ]
          },
          "metadata": {},
          "execution_count": 16
        }
      ],
      "source": [
        "l = [2,1,3]\n",
        "l"
      ]
    },
    {
      "cell_type": "code",
      "execution_count": 17,
      "metadata": {
        "id": "aXpiPTuIUWTI",
        "outputId": "736df21d-6dc8-4969-803e-d3076f630b01",
        "colab": {
          "base_uri": "https://localhost:8080/"
        }
      },
      "outputs": [
        {
          "output_type": "execute_result",
          "data": {
            "text/plain": [
              "[2, 5, 3]"
            ]
          },
          "metadata": {},
          "execution_count": 17
        }
      ],
      "source": [
        "l[1] = 5\n",
        "l"
      ]
    },
    {
      "cell_type": "markdown",
      "metadata": {
        "id": "qbcluVOXUWTI"
      },
      "source": [
        "- Iterando sobre una lista: "
      ]
    },
    {
      "cell_type": "code",
      "execution_count": 18,
      "metadata": {
        "id": "gMQE_0PrUWTJ",
        "outputId": "8eca8a39-caf9-42f6-a3f1-f6dca7836bd3",
        "colab": {
          "base_uri": "https://localhost:8080/"
        }
      },
      "outputs": [
        {
          "output_type": "stream",
          "name": "stdout",
          "text": [
            "10\n"
          ]
        }
      ],
      "source": [
        "total = 0\n",
        "for i in l: \n",
        "    total += i \n",
        "\n",
        "print(total)"
      ]
    },
    {
      "cell_type": "markdown",
      "metadata": {
        "id": "HQ85soI2UWTJ"
      },
      "source": [
        "## Operaciones sobre listas"
      ]
    },
    {
      "cell_type": "markdown",
      "metadata": {
        "id": "8wLiSLIOUWTJ"
      },
      "source": [
        "- Agregar elementos con el método `append` (nota la utilización del punto):"
      ]
    },
    {
      "cell_type": "code",
      "execution_count": 19,
      "metadata": {
        "id": "iAChXb8cUWTJ",
        "outputId": "6d5b054a-3ed2-413d-d21d-1c54fdb31a3b",
        "colab": {
          "base_uri": "https://localhost:8080/"
        }
      },
      "outputs": [
        {
          "output_type": "execute_result",
          "data": {
            "text/plain": [
              "[2, 1, 3]"
            ]
          },
          "metadata": {},
          "execution_count": 19
        }
      ],
      "source": [
        "l = [2,1,3]\n",
        "l"
      ]
    },
    {
      "cell_type": "code",
      "execution_count": 20,
      "metadata": {
        "id": "0SCi3qnrUWTJ",
        "outputId": "a0a8260c-2771-46a3-b45a-1f88368b79dc",
        "colab": {
          "base_uri": "https://localhost:8080/"
        }
      },
      "outputs": [
        {
          "output_type": "execute_result",
          "data": {
            "text/plain": [
              "[2, 1, 3, 5]"
            ]
          },
          "metadata": {},
          "execution_count": 20
        }
      ],
      "source": [
        "l.append(5)\n",
        "l"
      ]
    },
    {
      "cell_type": "markdown",
      "metadata": {
        "id": "tF_pS5OtUWTJ"
      },
      "source": [
        "- Concatenar dos listas: "
      ]
    },
    {
      "cell_type": "code",
      "execution_count": 21,
      "metadata": {
        "id": "kJsNSFDKUWTJ",
        "outputId": "bc71e311-b549-45a9-d7ac-37e5297f8530",
        "colab": {
          "base_uri": "https://localhost:8080/"
        }
      },
      "outputs": [
        {
          "output_type": "execute_result",
          "data": {
            "text/plain": [
              "[2, 1, 3, 4, 5, 6]"
            ]
          },
          "metadata": {},
          "execution_count": 21
        }
      ],
      "source": [
        "l1 = [2, 1, 3]\n",
        "l2 = [4, 5, 6]\n",
        "l3 = l1 + l2 \n",
        "l3"
      ]
    },
    {
      "cell_type": "code",
      "execution_count": 22,
      "metadata": {
        "id": "uF0ipnPuUWTK",
        "outputId": "112a7b01-8c3d-483a-b7dd-03f6787f7c99",
        "colab": {
          "base_uri": "https://localhost:8080/"
        }
      },
      "outputs": [
        {
          "output_type": "execute_result",
          "data": {
            "text/plain": [
              "([2, 1, 3], [4, 5, 6])"
            ]
          },
          "metadata": {},
          "execution_count": 22
        }
      ],
      "source": [
        "l1, l2"
      ]
    },
    {
      "cell_type": "markdown",
      "metadata": {
        "id": "ZEadgeSTUWTK"
      },
      "source": [
        "- Extender una lista con otra lista"
      ]
    },
    {
      "cell_type": "code",
      "execution_count": 23,
      "metadata": {
        "id": "g8Vp4I1EUWTK"
      },
      "outputs": [],
      "source": [
        "l1 = [2, 1, 3]\n",
        "l2 = [4, 5, 6]\n",
        "l1.extend(l2)"
      ]
    },
    {
      "cell_type": "code",
      "execution_count": 24,
      "metadata": {
        "id": "q-5NlZYbUWTK",
        "outputId": "71f9b748-968f-47bc-fe51-3461849b0fb0",
        "colab": {
          "base_uri": "https://localhost:8080/"
        }
      },
      "outputs": [
        {
          "output_type": "execute_result",
          "data": {
            "text/plain": [
              "([2, 1, 3, 4, 5, 6], [4, 5, 6])"
            ]
          },
          "metadata": {},
          "execution_count": 24
        }
      ],
      "source": [
        "l1, l2"
      ]
    },
    {
      "cell_type": "markdown",
      "metadata": {
        "id": "xE7gzU-IUWTK"
      },
      "source": [
        "- Eliminar un elemento: "
      ]
    },
    {
      "cell_type": "code",
      "execution_count": 26,
      "metadata": {
        "id": "u2OXDC8_UWTK"
      },
      "outputs": [],
      "source": [
        "l1 = [2, 1, 3]\n",
        "del(l1[0])"
      ]
    },
    {
      "cell_type": "code",
      "execution_count": 27,
      "metadata": {
        "id": "-F4kcfSXUWTK",
        "outputId": "29517b1f-f987-4bc5-ec2a-c756619b2420",
        "colab": {
          "base_uri": "https://localhost:8080/"
        }
      },
      "outputs": [
        {
          "output_type": "execute_result",
          "data": {
            "text/plain": [
              "[1, 3]"
            ]
          },
          "metadata": {},
          "execution_count": 27
        }
      ],
      "source": [
        "l1"
      ]
    },
    {
      "cell_type": "markdown",
      "metadata": {
        "id": "dJdTnmHpUWTL"
      },
      "source": [
        "- Quitar el último elemento: "
      ]
    },
    {
      "cell_type": "code",
      "execution_count": 28,
      "metadata": {
        "id": "HpthyCZ2UWTL",
        "outputId": "0f145d63-f562-4065-d210-1e7d68ecc405",
        "colab": {
          "base_uri": "https://localhost:8080/"
        }
      },
      "outputs": [
        {
          "output_type": "execute_result",
          "data": {
            "text/plain": [
              "3"
            ]
          },
          "metadata": {},
          "execution_count": 28
        }
      ],
      "source": [
        "l1 = [2, 1, 3]\n",
        "last = l1.pop()\n",
        "last"
      ]
    },
    {
      "cell_type": "code",
      "execution_count": 29,
      "metadata": {
        "id": "sf65v41nUWTL",
        "outputId": "ca4ab57c-2075-4a6f-fcf5-82a77c471c24",
        "colab": {
          "base_uri": "https://localhost:8080/"
        }
      },
      "outputs": [
        {
          "output_type": "execute_result",
          "data": {
            "text/plain": [
              "[2, 1]"
            ]
          },
          "metadata": {},
          "execution_count": 29
        }
      ],
      "source": [
        "l1"
      ]
    },
    {
      "cell_type": "markdown",
      "metadata": {
        "id": "jRcOv0O3UWTL"
      },
      "source": [
        "- Ordenar y revertir una lista"
      ]
    },
    {
      "cell_type": "code",
      "execution_count": 30,
      "metadata": {
        "id": "lDj5VMKgUWTL",
        "outputId": "3c2ebdfc-dff8-4670-d2ce-54873fa8eab4",
        "colab": {
          "base_uri": "https://localhost:8080/"
        }
      },
      "outputs": [
        {
          "output_type": "execute_result",
          "data": {
            "text/plain": [
              "[0, 3, 6, 9]"
            ]
          },
          "metadata": {},
          "execution_count": 30
        }
      ],
      "source": [
        "l = [9,6,0,3]\n",
        "l.sort()\n",
        "l"
      ]
    },
    {
      "cell_type": "code",
      "execution_count": 31,
      "metadata": {
        "id": "iQu87bfeUWTL",
        "outputId": "26e61de4-b1d1-4867-9dc0-a995bf4f46c4",
        "colab": {
          "base_uri": "https://localhost:8080/"
        }
      },
      "outputs": [
        {
          "output_type": "execute_result",
          "data": {
            "text/plain": [
              "[3, 0, 6, 9]"
            ]
          },
          "metadata": {},
          "execution_count": 31
        }
      ],
      "source": [
        "l = [9,6,0,3]\n",
        "l.reverse()\n",
        "l"
      ]
    },
    {
      "cell_type": "markdown",
      "metadata": {
        "id": "cSyCkL5FUWTL"
      },
      "source": [
        "### Listas y cadenas de texto"
      ]
    },
    {
      "cell_type": "code",
      "execution_count": 32,
      "metadata": {
        "id": "yxr7GWAhUWTM",
        "outputId": "a2e02275-7e23-4b72-fd5a-e09b909cada6",
        "colab": {
          "base_uri": "https://localhost:8080/"
        }
      },
      "outputs": [
        {
          "output_type": "execute_result",
          "data": {
            "text/plain": [
              "['H', 'o', 'l', 'a', ' ', 'a', 'm', 'i', 'g', 'o', 's']"
            ]
          },
          "metadata": {},
          "execution_count": 32
        }
      ],
      "source": [
        "s = \"Hola amigos\"\n",
        "list(s)"
      ]
    },
    {
      "cell_type": "code",
      "execution_count": 35,
      "metadata": {
        "id": "3F2uFwrhUWTM",
        "outputId": "7e6d38bf-6063-4f08-a3bc-f027ef7d4f08",
        "colab": {
          "base_uri": "https://localhost:8080/"
        }
      },
      "outputs": [
        {
          "output_type": "execute_result",
          "data": {
            "text/plain": [
              "['1', '2', '3', '4', '5', '6', '7', '8', '9', '10']"
            ]
          },
          "metadata": {},
          "execution_count": 35
        }
      ],
      "source": [
        "s = \"1,2,3,4,5,6,7,8,9,10\"\n",
        "s.split(\",\")"
      ]
    },
    {
      "cell_type": "code",
      "execution_count": 36,
      "metadata": {
        "id": "PDJnj5sEUWTM",
        "outputId": "33d9070f-0064-480a-db3c-a25045429653",
        "colab": {
          "base_uri": "https://localhost:8080/",
          "height": 35
        }
      },
      "outputs": [
        {
          "output_type": "execute_result",
          "data": {
            "application/vnd.google.colaboratory.intrinsic+json": {
              "type": "string"
            },
            "text/plain": [
              "'trabajo_final_estesi'"
            ]
          },
          "metadata": {},
          "execution_count": 36
        }
      ],
      "source": [
        "s = [\"trabajo\", \"final\", \"estesi\"]\n",
        "\"_\".join(s)"
      ]
    },
    {
      "cell_type": "markdown",
      "metadata": {
        "id": "ejpHZh-4UWTM"
      },
      "source": [
        "## Alias para listas"
      ]
    },
    {
      "cell_type": "code",
      "execution_count": 37,
      "metadata": {
        "id": "lxkfSqblUWTM",
        "outputId": "0b90cef5-d3c3-44c8-bb28-ddf0e06ddd12",
        "colab": {
          "base_uri": "https://localhost:8080/"
        }
      },
      "outputs": [
        {
          "output_type": "stream",
          "name": "stdout",
          "text": [
            "1\n",
            "1\n"
          ]
        }
      ],
      "source": [
        "a = 1\n",
        "b = a\n",
        "print(a)\n",
        "print(b)"
      ]
    },
    {
      "cell_type": "code",
      "execution_count": 38,
      "metadata": {
        "id": "pWf7qWhIUWTM",
        "outputId": "8d2bee93-ac7f-4e43-ead3-e5c8c1040f27",
        "colab": {
          "base_uri": "https://localhost:8080/"
        }
      },
      "outputs": [
        {
          "output_type": "stream",
          "name": "stdout",
          "text": [
            "['red', 'yellow', 'orange', 'pink']\n",
            "['red', 'yellow', 'orange', 'pink']\n"
          ]
        }
      ],
      "source": [
        "warm = ['red', 'yellow', 'orange']\n",
        "hot = warm\n",
        "hot.append('pink')\n",
        "print(hot)\n",
        "print(warm)"
      ]
    },
    {
      "cell_type": "markdown",
      "metadata": {
        "id": "XURUVnw_UWTM"
      },
      "source": [
        "### Crear una copia de una lista"
      ]
    },
    {
      "cell_type": "code",
      "execution_count": 39,
      "metadata": {
        "id": "DAaa4Dm1UWTN",
        "outputId": "95bdc722-0978-4068-90ab-0301aeed72c3",
        "colab": {
          "base_uri": "https://localhost:8080/"
        }
      },
      "outputs": [
        {
          "output_type": "stream",
          "name": "stdout",
          "text": [
            "['blue', 'green', 'grey', 'black']\n",
            "['blue', 'green', 'grey']\n"
          ]
        }
      ],
      "source": [
        "cool = ['blue', 'green', 'grey']\n",
        "chill = cool[:]\n",
        "chill.append('black')\n",
        "print(chill)\n",
        "print(cool)"
      ]
    },
    {
      "cell_type": "markdown",
      "metadata": {
        "id": "8YhJsjqTUWTN"
      },
      "source": [
        "- Utilizar el método `.sort()` altera la lista y devuelve `None`.\n",
        "- Utilizar la función `sorted()` no altera la lista, devuelve la lista ordenada."
      ]
    },
    {
      "cell_type": "code",
      "execution_count": 46,
      "metadata": {
        "id": "QBbC6hwyUWTN",
        "outputId": "5c2bffad-1106-4151-cfa8-d38b8ea6db16",
        "colab": {
          "base_uri": "https://localhost:8080/"
        }
      },
      "outputs": [
        {
          "output_type": "stream",
          "name": "stdout",
          "text": [
            "['orange', 'red', 'yellow']\n",
            "None\n"
          ]
        }
      ],
      "source": [
        "warm = ['red', 'yellow', 'orange']\n",
        "sortedwarm = warm.sort()\n",
        "print(warm)\n",
        "print(sortedwarm)"
      ]
    },
    {
      "cell_type": "code",
      "execution_count": 41,
      "metadata": {
        "id": "1vV9yEBcUWTN",
        "outputId": "b9344fb9-82ef-4882-8616-73aae5b3a805",
        "colab": {
          "base_uri": "https://localhost:8080/"
        }
      },
      "outputs": [
        {
          "output_type": "stream",
          "name": "stdout",
          "text": [
            "['grey', 'green', 'blue']\n",
            "['blue', 'green', 'grey']\n"
          ]
        }
      ],
      "source": [
        "cool = ['grey', 'green', 'blue']\n",
        "sortedcool = sorted(cool)\n",
        "print(cool)\n",
        "print(sortedcool)"
      ]
    },
    {
      "cell_type": "markdown",
      "metadata": {
        "id": "w1UGwzOEUWTN"
      },
      "source": [
        "### Listas dentro de listas"
      ]
    },
    {
      "cell_type": "code",
      "execution_count": 47,
      "metadata": {
        "id": "egKVS5PSUWTO",
        "outputId": "a8526f37-5017-4430-ea7c-f861ea21b453",
        "colab": {
          "base_uri": "https://localhost:8080/"
        }
      },
      "outputs": [
        {
          "output_type": "execute_result",
          "data": {
            "text/plain": [
              "[1, 2, [1, 2, [1, 2]]]"
            ]
          },
          "metadata": {},
          "execution_count": 47
        }
      ],
      "source": [
        "[1,2,[1,2,[1,2]]]"
      ]
    },
    {
      "cell_type": "code",
      "execution_count": 48,
      "metadata": {
        "id": "uYFAskT-UWTO",
        "outputId": "91b42796-c878-48a2-f2a7-0da7944073e0",
        "colab": {
          "base_uri": "https://localhost:8080/"
        }
      },
      "outputs": [
        {
          "output_type": "stream",
          "name": "stdout",
          "text": [
            "[['yellow', 'orange'], ['red']]\n",
            "['red', 'pink']\n",
            "[['yellow', 'orange'], ['red', 'pink']]\n"
          ]
        }
      ],
      "source": [
        "warm = ['yellow', 'orange']\n",
        "hot = ['red']\n",
        "brightcolors = [warm]\n",
        "brightcolors.append(hot)\n",
        "print(brightcolors)\n",
        "\n",
        "hot.append('pink')\n",
        "print(hot)\n",
        "print(brightcolors)"
      ]
    },
    {
      "cell_type": "markdown",
      "metadata": {
        "id": "Oynvh64AUWTO"
      },
      "source": [
        "### Evitar mutar listas al iterar sobre ellas"
      ]
    },
    {
      "cell_type": "code",
      "execution_count": 49,
      "metadata": {
        "id": "IVt4Ja0JUWTO",
        "outputId": "967bdda2-3c8a-40b9-a06f-b8a02142a764",
        "colab": {
          "base_uri": "https://localhost:8080/"
        }
      },
      "outputs": [
        {
          "output_type": "stream",
          "name": "stdout",
          "text": [
            "[2, 3, 4] [1, 2, 5, 6]\n"
          ]
        }
      ],
      "source": [
        "def remove_dups(L1, L2):\n",
        "    for e in L1:\n",
        "        if e in L2:\n",
        "            L1.remove(e)\n",
        "\n",
        "L1 = [1, 2, 3, 4]\n",
        "L2 = [1, 2, 5, 6]\n",
        "remove_dups(L1, L2)\n",
        "print(L1, L2)"
      ]
    },
    {
      "cell_type": "code",
      "execution_count": 50,
      "metadata": {
        "id": "Ya-FsSxpUWTO",
        "outputId": "8d87f660-cfe7-4fd1-b7a8-9f7dc3c7bf18",
        "colab": {
          "base_uri": "https://localhost:8080/"
        }
      },
      "outputs": [
        {
          "output_type": "stream",
          "name": "stdout",
          "text": [
            "[3, 4] [1, 2, 5, 6]\n"
          ]
        }
      ],
      "source": [
        "def remove_dups_new(L1, L2):\n",
        "    L1_copy = L1[:]\n",
        "    for e in L1_copy:\n",
        "        if e in L2:\n",
        "            L1.remove(e)\n",
        "            \n",
        "L1 = [1, 2, 3, 4]\n",
        "L2 = [1, 2, 5, 6]\n",
        "remove_dups_new(L1, L2)\n",
        "print(L1, L2)"
      ]
    },
    {
      "cell_type": "markdown",
      "metadata": {
        "id": "5UbeIeAOUWTO"
      },
      "source": [
        "## *List comprehension*"
      ]
    },
    {
      "cell_type": "code",
      "execution_count": 51,
      "metadata": {
        "id": "u7ANy0ECUWTP",
        "outputId": "64687145-04bf-4038-f531-71c4bc12dab7",
        "colab": {
          "base_uri": "https://localhost:8080/"
        }
      },
      "outputs": [
        {
          "output_type": "execute_result",
          "data": {
            "text/plain": [
              "[0, 1, 2, 3, 4, 5, 6, 7, 8, 9]"
            ]
          },
          "metadata": {},
          "execution_count": 51
        }
      ],
      "source": [
        "l = [i for i in range(10)]\n",
        "l"
      ]
    },
    {
      "cell_type": "code",
      "execution_count": 52,
      "metadata": {
        "id": "OCM-5-9AUWTP",
        "outputId": "39be9747-d488-41b0-d238-152b768977cd",
        "colab": {
          "base_uri": "https://localhost:8080/"
        }
      },
      "outputs": [
        {
          "output_type": "execute_result",
          "data": {
            "text/plain": [
              "[0, 2, 4, 6, 8, 10, 12, 14, 16, 18]"
            ]
          },
          "metadata": {},
          "execution_count": 52
        }
      ],
      "source": [
        "l = [i for i in range(20) if i % 2 == 0]\n",
        "l"
      ]
    },
    {
      "cell_type": "code",
      "execution_count": 53,
      "metadata": {
        "id": "cf8mEWKVUWTP",
        "outputId": "259c0737-4e67-43d0-f13e-7827f56bd33c",
        "colab": {
          "base_uri": "https://localhost:8080/"
        }
      },
      "outputs": [
        {
          "output_type": "execute_result",
          "data": {
            "text/plain": [
              "[0, 2, 4, 6, 8, 10, 12, 14, 16, 18]"
            ]
          },
          "metadata": {},
          "execution_count": 53
        }
      ],
      "source": [
        "l = [i for i in range(20) if i % 2 == 0]\n",
        "l"
      ]
    },
    {
      "cell_type": "markdown",
      "metadata": {
        "id": "uWJVUBh5UWTP"
      },
      "source": [
        "## Ejercicios"
      ]
    },
    {
      "cell_type": "markdown",
      "metadata": {
        "id": "204Y3D9VUWTP"
      },
      "source": [
        "- Generar una lista con los múltiplos no negativos de 3 menores a 100. "
      ]
    },
    {
      "cell_type": "code",
      "execution_count": null,
      "metadata": {
        "id": "TqNw6RHaUWTP"
      },
      "outputs": [],
      "source": [
        ""
      ]
    },
    {
      "cell_type": "markdown",
      "metadata": {
        "id": "dJ8lCYCvUWTP"
      },
      "source": [
        "- Generar una lista con los números primos menores a 100. "
      ]
    },
    {
      "cell_type": "code",
      "execution_count": null,
      "metadata": {
        "id": "i0APb0qlUWTP"
      },
      "outputs": [],
      "source": [
        ""
      ]
    },
    {
      "cell_type": "markdown",
      "metadata": {
        "id": "0uSsk6d6UWTP"
      },
      "source": [
        "- Con la función de Newton-Raphson, devolver en una lista los valores de iteración de la solución. "
      ]
    },
    {
      "cell_type": "code",
      "execution_count": null,
      "metadata": {
        "id": "BrDu8d3HUWTQ"
      },
      "outputs": [],
      "source": [
        ""
      ]
    },
    {
      "cell_type": "markdown",
      "metadata": {
        "id": "ELovXoePUWTQ"
      },
      "source": [
        "- Generar un ejemplo con las funciones `all` y `any`. Vea `help(all)`"
      ]
    },
    {
      "cell_type": "code",
      "execution_count": null,
      "metadata": {
        "id": "s33Y70NqUWTQ"
      },
      "outputs": [],
      "source": [
        ""
      ]
    }
  ],
  "metadata": {
    "interpreter": {
      "hash": "f13a15f6d8e6dbf190362d83f8f24b25050c3603e79608f15fd979d60be4a590"
    },
    "kernelspec": {
      "display_name": "Python 3.9.7 64-bit ('bg': conda)",
      "language": "python",
      "name": "python3"
    },
    "language_info": {
      "codemirror_mode": {
        "name": "ipython",
        "version": 3
      },
      "file_extension": ".py",
      "mimetype": "text/x-python",
      "name": "python",
      "nbconvert_exporter": "python",
      "pygments_lexer": "ipython3",
      "version": "3.9.7"
    },
    "orig_nbformat": 4,
    "colab": {
      "name": "tuples-lists.ipynb",
      "provenance": [],
      "include_colab_link": true
    }
  },
  "nbformat": 4,
  "nbformat_minor": 0
}